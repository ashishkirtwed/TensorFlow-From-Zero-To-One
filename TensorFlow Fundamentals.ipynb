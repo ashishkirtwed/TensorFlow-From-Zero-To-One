{
  "nbformat": 4,
  "nbformat_minor": 0,
  "metadata": {
    "colab": {
      "name": "TensorFlow 1.ipynb",
      "provenance": [],
      "collapsed_sections": [
        "NwxfRM0hJn8U",
        "DIXly1Ah_DJG",
        "zEGO9qFiQdqS",
        "9PzPBWo3W5q4"
      ],
      "toc_visible": true
    },
    "kernelspec": {
      "name": "python3",
      "display_name": "Python 3"
    },
    "language_info": {
      "name": "python"
    },
    "accelerator": "GPU"
  },
  "cells": [
    {
      "cell_type": "markdown",
      "metadata": {
        "id": "J4XTV2ASHgHE"
      },
      "source": [
        "# In this notebook, we'are going to cover some fundamental concepts of tensorflow\n",
        "1. Introduction to the tensors\n",
        "2. Getting information from tensors\n",
        "3. Manipulating tensors\n",
        "3. Tensors & Numpy \n",
        "4. Using @tf.function(a way to speed up our regular python functions)\n",
        "5. Using GPUs with TensorFlow(or TPUs)\n",
        "6. Exercises to try yourself"
      ]
    },
    {
      "cell_type": "markdown",
      "metadata": {
        "id": "uTN7v0mZJmw4"
      },
      "source": [
        ""
      ]
    },
    {
      "cell_type": "markdown",
      "metadata": {
        "id": "NwxfRM0hJn8U"
      },
      "source": [
        "## Introductions to Tensors"
      ]
    },
    {
      "cell_type": "markdown",
      "metadata": {
        "id": "8H12cSTA9STL"
      },
      "source": [
        "What we will study below:-\n",
        "1. Scaler: A single number\n",
        "2. Vector: A number with direction\n",
        "3. Matrix: a 2-Dimenstional array of numbers\n",
        "4. Tensor: an n-dimensional array of numbers\n",
        "\n",
        "\n",
        "\n"
      ]
    },
    {
      "cell_type": "code",
      "metadata": {
        "id": "BMqO8-5wzgGj"
      },
      "source": [
        "import numpy as np"
      ],
      "execution_count": 129,
      "outputs": []
    },
    {
      "cell_type": "code",
      "metadata": {
        "colab": {
          "base_uri": "https://localhost:8080/"
        },
        "id": "w5Zf84CcJmdp",
        "outputId": "8686df01-c005-42c0-ab84-8d98f96729c9"
      },
      "source": [
        "import tensorflow as tf\n",
        "print(tf.__version__) #Finding the version of tensorflow version"
      ],
      "execution_count": 130,
      "outputs": [
        {
          "output_type": "stream",
          "text": [
            "2.5.0\n"
          ],
          "name": "stdout"
        }
      ]
    },
    {
      "cell_type": "markdown",
      "metadata": {
        "id": "wE5K1QvzKEMf"
      },
      "source": [
        "Create Tensors with tf.constant()"
      ]
    },
    {
      "cell_type": "code",
      "metadata": {
        "colab": {
          "base_uri": "https://localhost:8080/"
        },
        "id": "M6mNy51XKDzq",
        "outputId": "8a66080b-046c-417f-f9fb-d1792c33cf40"
      },
      "source": [
        "scaler = tf.constant(7)\n",
        "scaler"
      ],
      "execution_count": 131,
      "outputs": [
        {
          "output_type": "execute_result",
          "data": {
            "text/plain": [
              "<tf.Tensor: shape=(), dtype=int32, numpy=7>"
            ]
          },
          "metadata": {
            "tags": []
          },
          "execution_count": 131
        }
      ]
    },
    {
      "cell_type": "markdown",
      "metadata": {
        "id": "wW9FwlhGzESH"
      },
      "source": [
        "**Creating 1-D tensor from a python list**"
      ]
    },
    {
      "cell_type": "code",
      "metadata": {
        "colab": {
          "base_uri": "https://localhost:8080/"
        },
        "id": "t7aDUGHGJliF",
        "outputId": "cef400b1-35a5-4c49-cd02-62b666de09fe"
      },
      "source": [
        "tf.constant([1,2,3,4,5])"
      ],
      "execution_count": 132,
      "outputs": [
        {
          "output_type": "execute_result",
          "data": {
            "text/plain": [
              "<tf.Tensor: shape=(5,), dtype=int32, numpy=array([1, 2, 3, 4, 5], dtype=int32)>"
            ]
          },
          "metadata": {
            "tags": []
          },
          "execution_count": 132
        }
      ]
    },
    {
      "cell_type": "markdown",
      "metadata": {
        "id": "ZHSb3L64zT-x"
      },
      "source": [
        "**From a numpy array**"
      ]
    },
    {
      "cell_type": "code",
      "metadata": {
        "colab": {
          "base_uri": "https://localhost:8080/"
        },
        "id": "K99jhWFVHuUJ",
        "outputId": "85f2d9c9-49a6-45b6-b1c0-4c2b01e50e14"
      },
      "source": [
        "a = np.array([[1,2,3],[4,5,6]])\n",
        "a"
      ],
      "execution_count": 133,
      "outputs": [
        {
          "output_type": "execute_result",
          "data": {
            "text/plain": [
              "array([[1, 2, 3],\n",
              "       [4, 5, 6]])"
            ]
          },
          "metadata": {
            "tags": []
          },
          "execution_count": 133
        }
      ]
    },
    {
      "cell_type": "code",
      "metadata": {
        "colab": {
          "base_uri": "https://localhost:8080/"
        },
        "id": "0FPi26hGzkAa",
        "outputId": "c5c6ebc8-df7e-4905-9d4d-5fc5266e4f3d"
      },
      "source": [
        "tf.constant(a)"
      ],
      "execution_count": 134,
      "outputs": [
        {
          "output_type": "execute_result",
          "data": {
            "text/plain": [
              "<tf.Tensor: shape=(2, 3), dtype=int64, numpy=\n",
              "array([[1, 2, 3],\n",
              "       [4, 5, 6]])>"
            ]
          },
          "metadata": {
            "tags": []
          },
          "execution_count": 134
        }
      ]
    },
    {
      "cell_type": "markdown",
      "metadata": {
        "id": "zYj0-WCmzqxe"
      },
      "source": [
        "**We can also specify dtype of tensor values**"
      ]
    },
    {
      "cell_type": "code",
      "metadata": {
        "colab": {
          "base_uri": "https://localhost:8080/"
        },
        "id": "cmS7SbedzxcL",
        "outputId": "37501182-a0d3-437e-b515-a7c40711bd1d"
      },
      "source": [
        "tf.constant([1,1,5,6,3,6],dtype=tf.float64)"
      ],
      "execution_count": 135,
      "outputs": [
        {
          "output_type": "execute_result",
          "data": {
            "text/plain": [
              "<tf.Tensor: shape=(6,), dtype=float64, numpy=array([1., 1., 5., 6., 3., 6.])>"
            ]
          },
          "metadata": {
            "tags": []
          },
          "execution_count": 135
        }
      ]
    },
    {
      "cell_type": "markdown",
      "metadata": {
        "id": "e2ghUlg5z7gW"
      },
      "source": [
        "If **shape** is set, the value is reshaped to match, scalers are expanded to fill the shape"
      ]
    },
    {
      "cell_type": "code",
      "metadata": {
        "id": "08Uln5WY0h5w"
      },
      "source": [
        "tf_array=tf.constant(0,shape=(2,3))"
      ],
      "execution_count": 136,
      "outputs": []
    },
    {
      "cell_type": "code",
      "metadata": {
        "colab": {
          "base_uri": "https://localhost:8080/"
        },
        "id": "fo6IDisG4VIK",
        "outputId": "ceb8ae91-826b-4ec7-dc1b-cf8828302b5c"
      },
      "source": [
        "tf_array"
      ],
      "execution_count": 137,
      "outputs": [
        {
          "output_type": "execute_result",
          "data": {
            "text/plain": [
              "<tf.Tensor: shape=(2, 3), dtype=int32, numpy=\n",
              "array([[0, 0, 0],\n",
              "       [0, 0, 0]], dtype=int32)>"
            ]
          },
          "metadata": {
            "tags": []
          },
          "execution_count": 137
        }
      ]
    },
    {
      "cell_type": "code",
      "metadata": {
        "colab": {
          "base_uri": "https://localhost:8080/"
        },
        "id": "58U1LPLt1hGh",
        "outputId": "e8d776f2-e380-4299-9748-48681322d522"
      },
      "source": [
        "tf.constant([1,2,3,4,5,6],shape=(2,3))"
      ],
      "execution_count": 138,
      "outputs": [
        {
          "output_type": "execute_result",
          "data": {
            "text/plain": [
              "<tf.Tensor: shape=(2, 3), dtype=int32, numpy=\n",
              "array([[1, 2, 3],\n",
              "       [4, 5, 6]], dtype=int32)>"
            ]
          },
          "metadata": {
            "tags": []
          },
          "execution_count": 138
        }
      ]
    },
    {
      "cell_type": "markdown",
      "metadata": {
        "id": "nWM52Pvy2CWR"
      },
      "source": [
        "**Types of error that can occure**\n",
        "1. TypeError:- if shape is incorrectly specified or unsupported\n",
        "2. ValueError:- If tf.constant called on symbolic tensor"
      ]
    },
    {
      "cell_type": "markdown",
      "metadata": {
        "id": "4EtV3RmG2J3_"
      },
      "source": [
        "checking the dimensions of a tensor(ndim stands for number of dimensions)"
      ]
    },
    {
      "cell_type": "code",
      "metadata": {
        "colab": {
          "base_uri": "https://localhost:8080/"
        },
        "id": "MYC8Axcm2JVG",
        "outputId": "38b692fa-19f1-4391-a848-68554c57e0a0"
      },
      "source": [
        "tf_matrix=tf.constant(0,shape=(2,3))\n",
        "tf_matrix.ndim"
      ],
      "execution_count": 139,
      "outputs": [
        {
          "output_type": "execute_result",
          "data": {
            "text/plain": [
              "2"
            ]
          },
          "metadata": {
            "tags": []
          },
          "execution_count": 139
        }
      ]
    },
    {
      "cell_type": "code",
      "metadata": {
        "colab": {
          "base_uri": "https://localhost:8080/"
        },
        "id": "V1ZF5R1B5ECg",
        "outputId": "925975ee-b947-47e3-e301-f4d4930ff494"
      },
      "source": [
        "another_matrix = tf.constant([[[1,2,3],[4,5,6]],[[5,6,3],[0,4,1]]])\n",
        "another_matrix"
      ],
      "execution_count": 140,
      "outputs": [
        {
          "output_type": "execute_result",
          "data": {
            "text/plain": [
              "<tf.Tensor: shape=(2, 2, 3), dtype=int32, numpy=\n",
              "array([[[1, 2, 3],\n",
              "        [4, 5, 6]],\n",
              "\n",
              "       [[5, 6, 3],\n",
              "        [0, 4, 1]]], dtype=int32)>"
            ]
          },
          "metadata": {
            "tags": []
          },
          "execution_count": 140
        }
      ]
    },
    {
      "cell_type": "code",
      "metadata": {
        "colab": {
          "base_uri": "https://localhost:8080/"
        },
        "id": "Ymj5i_At8YkW",
        "outputId": "7576a629-054e-4a73-a8f6-31af58c719c4"
      },
      "source": [
        "another_matrix.ndim"
      ],
      "execution_count": 141,
      "outputs": [
        {
          "output_type": "execute_result",
          "data": {
            "text/plain": [
              "3"
            ]
          },
          "metadata": {
            "tags": []
          },
          "execution_count": 141
        }
      ]
    },
    {
      "cell_type": "markdown",
      "metadata": {
        "id": "1xknmg8L8_ot"
      },
      "source": [
        ""
      ]
    },
    {
      "cell_type": "markdown",
      "metadata": {
        "id": "DIXly1Ah_DJG"
      },
      "source": [
        "## Creating tensors with tensorflow and tf.Variable"
      ]
    },
    {
      "cell_type": "markdown",
      "metadata": {
        "id": "e4EaaYPKL3bB"
      },
      "source": [
        "A variable maintains shared, persistent state manipulated by a program.\n",
        "\n",
        "The Variable() constructor requires an initial value for the variable, which\n",
        "can be a Tensor of any type and shape. This initial value defines the type\n",
        "and shape of the variable. After construction, the type and shape of the\n",
        "variable are fixed. The value can be changed using one of the assign methods."
      ]
    },
    {
      "cell_type": "markdown",
      "metadata": {
        "id": "BaccO_eBKzqG"
      },
      "source": [
        "Create the tensor with tf.Variable()"
      ]
    },
    {
      "cell_type": "code",
      "metadata": {
        "colab": {
          "base_uri": "https://localhost:8080/"
        },
        "id": "8-taooIm_MsD",
        "outputId": "3df9afc0-ab5c-46e6-d492-fb507c85084f"
      },
      "source": [
        "changeable_tensor = tf.Variable([10,7])\n",
        "unchangeable_tensor = tf.Variable([10,7])\n",
        "changeable_tensor,unchangeable_tensor"
      ],
      "execution_count": 142,
      "outputs": [
        {
          "output_type": "execute_result",
          "data": {
            "text/plain": [
              "(<tf.Variable 'Variable:0' shape=(2,) dtype=int32, numpy=array([10,  7], dtype=int32)>,\n",
              " <tf.Variable 'Variable:0' shape=(2,) dtype=int32, numpy=array([10,  7], dtype=int32)>)"
            ]
          },
          "metadata": {
            "tags": []
          },
          "execution_count": 142
        }
      ]
    },
    {
      "cell_type": "code",
      "metadata": {
        "colab": {
          "base_uri": "https://localhost:8080/"
        },
        "id": "HQUxYUd-MGde",
        "outputId": "1c196413-3400-4685-b4ad-4114b932bbcf"
      },
      "source": [
        "changeable_tensor[0]"
      ],
      "execution_count": 143,
      "outputs": [
        {
          "output_type": "execute_result",
          "data": {
            "text/plain": [
              "<tf.Tensor: shape=(), dtype=int32, numpy=10>"
            ]
          },
          "metadata": {
            "tags": []
          },
          "execution_count": 143
        }
      ]
    },
    {
      "cell_type": "code",
      "metadata": {
        "colab": {
          "base_uri": "https://localhost:8080/"
        },
        "id": "DGA7i1c4Nt8W",
        "outputId": "16b8e681-c2c6-44da-a984-05960249f085"
      },
      "source": [
        "changeable_tensor[1]"
      ],
      "execution_count": 144,
      "outputs": [
        {
          "output_type": "execute_result",
          "data": {
            "text/plain": [
              "<tf.Tensor: shape=(), dtype=int32, numpy=7>"
            ]
          },
          "metadata": {
            "tags": []
          },
          "execution_count": 144
        }
      ]
    },
    {
      "cell_type": "code",
      "metadata": {
        "id": "StqJswc8NxNy"
      },
      "source": [
        "#changeable_tensor[0]=12"
      ],
      "execution_count": 145,
      "outputs": []
    },
    {
      "cell_type": "markdown",
      "metadata": {
        "id": "z-WotO4FN9Xt"
      },
      "source": [
        "How abour we try .assign() methoda as per documentation"
      ]
    },
    {
      "cell_type": "code",
      "metadata": {
        "colab": {
          "base_uri": "https://localhost:8080/"
        },
        "id": "rLUslanwOTcC",
        "outputId": "c05051d2-0fe9-4d4c-f4ac-8008f124bd92"
      },
      "source": [
        "changeable_tensor[0].assign(12)"
      ],
      "execution_count": 146,
      "outputs": [
        {
          "output_type": "execute_result",
          "data": {
            "text/plain": [
              "<tf.Variable 'UnreadVariable' shape=(2,) dtype=int32, numpy=array([12,  7], dtype=int32)>"
            ]
          },
          "metadata": {
            "tags": []
          },
          "execution_count": 146
        }
      ]
    },
    {
      "cell_type": "code",
      "metadata": {
        "id": "Xn65rJoNP847"
      },
      "source": [
        "# unchangeable_tensor.assign(9)"
      ],
      "execution_count": 147,
      "outputs": []
    },
    {
      "cell_type": "markdown",
      "metadata": {
        "id": "zEGO9qFiQdqS"
      },
      "source": [
        "## Creating random tensors\n"
      ]
    },
    {
      "cell_type": "markdown",
      "metadata": {
        "id": "4O_9_D8GUGwE"
      },
      "source": [
        "Creating two random(but the same) tensors"
      ]
    },
    {
      "cell_type": "code",
      "metadata": {
        "colab": {
          "base_uri": "https://localhost:8080/"
        },
        "id": "6BtWR9XcQkzf",
        "outputId": "507b2e4f-d093-41c3-d3dd-49bb12d7b3c9"
      },
      "source": [
        "random_1 = tf.random.Generator.from_seed(42)\n",
        "random_1 = random_1.normal(shape=(3,2))\n",
        "random_1"
      ],
      "execution_count": 148,
      "outputs": [
        {
          "output_type": "execute_result",
          "data": {
            "text/plain": [
              "<tf.Tensor: shape=(3, 2), dtype=float32, numpy=\n",
              "array([[-0.7565803 , -0.06854702],\n",
              "       [ 0.07595026, -1.2573844 ],\n",
              "       [-0.23193765, -1.8107855 ]], dtype=float32)>"
            ]
          },
          "metadata": {
            "tags": []
          },
          "execution_count": 148
        }
      ]
    },
    {
      "cell_type": "code",
      "metadata": {
        "colab": {
          "base_uri": "https://localhost:8080/"
        },
        "id": "FZsxTpeuUe5A",
        "outputId": "77d85adb-2290-414e-b8f3-eb6bd34469fb"
      },
      "source": [
        "random_2 = tf.random.Generator.from_seed(42)\n",
        "random_2= random_2.normal(shape = (3,2))\n",
        "random_2"
      ],
      "execution_count": 149,
      "outputs": [
        {
          "output_type": "execute_result",
          "data": {
            "text/plain": [
              "<tf.Tensor: shape=(3, 2), dtype=float32, numpy=\n",
              "array([[-0.7565803 , -0.06854702],\n",
              "       [ 0.07595026, -1.2573844 ],\n",
              "       [-0.23193765, -1.8107855 ]], dtype=float32)>"
            ]
          },
          "metadata": {
            "tags": []
          },
          "execution_count": 149
        }
      ]
    },
    {
      "cell_type": "markdown",
      "metadata": {
        "id": "S9zDX8icVR6j"
      },
      "source": [
        "are the equal"
      ]
    },
    {
      "cell_type": "code",
      "metadata": {
        "colab": {
          "base_uri": "https://localhost:8080/"
        },
        "id": "rONIbVHeVTiP",
        "outputId": "48fcd9dc-a97c-4a58-fe0e-1268da9ae786"
      },
      "source": [
        "random_1==random_2"
      ],
      "execution_count": 150,
      "outputs": [
        {
          "output_type": "execute_result",
          "data": {
            "text/plain": [
              "<tf.Tensor: shape=(3, 2), dtype=bool, numpy=\n",
              "array([[ True,  True],\n",
              "       [ True,  True],\n",
              "       [ True,  True]])>"
            ]
          },
          "metadata": {
            "tags": []
          },
          "execution_count": 150
        }
      ]
    },
    {
      "cell_type": "markdown",
      "metadata": {
        "id": "9PzPBWo3W5q4"
      },
      "source": [
        "## Suffling the order of elements in a tensors\n",
        "Shuffle a tensor (valuable for when we want to shuffle our data so the inherent order doesn't effect learning"
      ]
    },
    {
      "cell_type": "code",
      "metadata": {
        "colab": {
          "base_uri": "https://localhost:8080/"
        },
        "id": "gzm5A-CeW_0k",
        "outputId": "0ac64e06-c6c4-4038-917e-079998a16c26"
      },
      "source": [
        "not_shuffled = tf.constant([[10,7],\n",
        "                            [4,5],\n",
        "                            [3,1]])\n",
        "not_shuffled"
      ],
      "execution_count": 151,
      "outputs": [
        {
          "output_type": "execute_result",
          "data": {
            "text/plain": [
              "<tf.Tensor: shape=(3, 2), dtype=int32, numpy=\n",
              "array([[10,  7],\n",
              "       [ 4,  5],\n",
              "       [ 3,  1]], dtype=int32)>"
            ]
          },
          "metadata": {
            "tags": []
          },
          "execution_count": 151
        }
      ]
    },
    {
      "cell_type": "markdown",
      "metadata": {
        "id": "FY2IO0_OfduX"
      },
      "source": [
        "**Shuffle our not_shuffled tensor**"
      ]
    },
    {
      "cell_type": "code",
      "metadata": {
        "colab": {
          "base_uri": "https://localhost:8080/"
        },
        "id": "QPqBSag0fOhi",
        "outputId": "d0093b05-7699-4145-f416-8f0ada7d28f4"
      },
      "source": [
        "tf.random.shuffle(value=not_shuffled,seed=42)"
      ],
      "execution_count": 152,
      "outputs": [
        {
          "output_type": "execute_result",
          "data": {
            "text/plain": [
              "<tf.Tensor: shape=(3, 2), dtype=int32, numpy=\n",
              "array([[10,  7],\n",
              "       [ 4,  5],\n",
              "       [ 3,  1]], dtype=int32)>"
            ]
          },
          "metadata": {
            "tags": []
          },
          "execution_count": 152
        }
      ]
    },
    {
      "cell_type": "code",
      "metadata": {
        "colab": {
          "base_uri": "https://localhost:8080/"
        },
        "id": "Zp6Q2hj7f7oP",
        "outputId": "8f92e4b1-9d0e-4efc-b697-99b795956ce9"
      },
      "source": [
        "tf.random.shuffle(value=not_shuffled,seed=2)"
      ],
      "execution_count": 153,
      "outputs": [
        {
          "output_type": "execute_result",
          "data": {
            "text/plain": [
              "<tf.Tensor: shape=(3, 2), dtype=int32, numpy=\n",
              "array([[10,  7],\n",
              "       [ 4,  5],\n",
              "       [ 3,  1]], dtype=int32)>"
            ]
          },
          "metadata": {
            "tags": []
          },
          "execution_count": 153
        }
      ]
    },
    {
      "cell_type": "markdown",
      "metadata": {
        "id": "MD_Hz7EOguoJ"
      },
      "source": [
        "You can also set seed using tf.random.set_seed(42)"
      ]
    },
    {
      "cell_type": "code",
      "metadata": {
        "colab": {
          "base_uri": "https://localhost:8080/"
        },
        "id": "XuhGPXHsgqwg",
        "outputId": "441c2167-320c-46e9-dc7f-9bf65371da27"
      },
      "source": [
        "tf.random.set_seed(42)\n",
        "tf.random.shuffle(value=not_shuffled)"
      ],
      "execution_count": 154,
      "outputs": [
        {
          "output_type": "execute_result",
          "data": {
            "text/plain": [
              "<tf.Tensor: shape=(3, 2), dtype=int32, numpy=\n",
              "array([[ 4,  5],\n",
              "       [ 3,  1],\n",
              "       [10,  7]], dtype=int32)>"
            ]
          },
          "metadata": {
            "tags": []
          },
          "execution_count": 154
        }
      ]
    },
    {
      "cell_type": "markdown",
      "metadata": {
        "id": "n9No7_QSpy2-"
      },
      "source": [
        "## Global level random seed and operational level random seed\n",
        "It looks like if we want our shuffled tensors to be in the same orderm we've got to use the global level random seed as well as the operational level random seed\n",
        "Rule4: \"If both the global and the operation seed are set: Both seeds are used in conjunction to determine the random sequence.\"\n",
        "[https://www.tensorflow.org/api_docs/python/tf/random/set_seed](https://)"
      ]
    },
    {
      "cell_type": "code",
      "metadata": {
        "colab": {
          "base_uri": "https://localhost:8080/"
        },
        "id": "8YNzPNY5p3jK",
        "outputId": "dd70a370-e853-4771-e541-0a1cc720724f"
      },
      "source": [
        "tf.random.set_seed(42) #global level random seed\n",
        "tf.random.shuffle(not_shuffled,seed=42) #operational level random seed"
      ],
      "execution_count": 155,
      "outputs": [
        {
          "output_type": "execute_result",
          "data": {
            "text/plain": [
              "<tf.Tensor: shape=(3, 2), dtype=int32, numpy=\n",
              "array([[10,  7],\n",
              "       [ 4,  5],\n",
              "       [ 3,  1]], dtype=int32)>"
            ]
          },
          "metadata": {
            "tags": []
          },
          "execution_count": 155
        }
      ]
    },
    {
      "cell_type": "markdown",
      "metadata": {
        "id": "QzlHQrA9h0jn"
      },
      "source": [
        "## Creating tensors from Numpy arrays"
      ]
    },
    {
      "cell_type": "markdown",
      "metadata": {
        "id": "7Q3nLTmzsnv6"
      },
      "source": [
        "Other ways to make tensors"
      ]
    },
    {
      "cell_type": "code",
      "metadata": {
        "colab": {
          "base_uri": "https://localhost:8080/"
        },
        "id": "1e-Z33uGh9hP",
        "outputId": "804738af-d677-4822-fe82-7c5cc2c38c7d"
      },
      "source": [
        "#Create a tensor of all \n",
        "tf.ones([10,7])"
      ],
      "execution_count": 156,
      "outputs": [
        {
          "output_type": "execute_result",
          "data": {
            "text/plain": [
              "<tf.Tensor: shape=(10, 7), dtype=float32, numpy=\n",
              "array([[1., 1., 1., 1., 1., 1., 1.],\n",
              "       [1., 1., 1., 1., 1., 1., 1.],\n",
              "       [1., 1., 1., 1., 1., 1., 1.],\n",
              "       [1., 1., 1., 1., 1., 1., 1.],\n",
              "       [1., 1., 1., 1., 1., 1., 1.],\n",
              "       [1., 1., 1., 1., 1., 1., 1.],\n",
              "       [1., 1., 1., 1., 1., 1., 1.],\n",
              "       [1., 1., 1., 1., 1., 1., 1.],\n",
              "       [1., 1., 1., 1., 1., 1., 1.],\n",
              "       [1., 1., 1., 1., 1., 1., 1.]], dtype=float32)>"
            ]
          },
          "metadata": {
            "tags": []
          },
          "execution_count": 156
        }
      ]
    },
    {
      "cell_type": "code",
      "metadata": {
        "colab": {
          "base_uri": "https://localhost:8080/"
        },
        "id": "jXbPgwnwtasM",
        "outputId": "82f11f27-1539-4e3b-cbcf-17a080b44704"
      },
      "source": [
        "#Create a tensor of all zeros\n",
        "tf.zeros(shape=(2,3,4))"
      ],
      "execution_count": 157,
      "outputs": [
        {
          "output_type": "execute_result",
          "data": {
            "text/plain": [
              "<tf.Tensor: shape=(2, 3, 4), dtype=float32, numpy=\n",
              "array([[[0., 0., 0., 0.],\n",
              "        [0., 0., 0., 0.],\n",
              "        [0., 0., 0., 0.]],\n",
              "\n",
              "       [[0., 0., 0., 0.],\n",
              "        [0., 0., 0., 0.],\n",
              "        [0., 0., 0., 0.]]], dtype=float32)>"
            ]
          },
          "metadata": {
            "tags": []
          },
          "execution_count": 157
        }
      ]
    },
    {
      "cell_type": "markdown",
      "metadata": {
        "id": "WLz-MXuCuP4o"
      },
      "source": [
        "Turn NumPy arrays into tensors\n",
        "1. The main difference between NumPy arrays and TensorFlow tensors is that tensors can be run on a GPU(Much Faster for numerical Computation)"
      ]
    },
    {
      "cell_type": "code",
      "metadata": {
        "id": "Hzc2iukNtkka"
      },
      "source": [
        "import numpy as np\n",
        "numpy_A = np.arange(1,25,dtype=np.int32)"
      ],
      "execution_count": 158,
      "outputs": []
    },
    {
      "cell_type": "code",
      "metadata": {
        "colab": {
          "base_uri": "https://localhost:8080/"
        },
        "id": "IeOpgXocwxui",
        "outputId": "f7779617-8263-4879-dcf7-a770a0aca0c6"
      },
      "source": [
        "numpy_A"
      ],
      "execution_count": 159,
      "outputs": [
        {
          "output_type": "execute_result",
          "data": {
            "text/plain": [
              "array([ 1,  2,  3,  4,  5,  6,  7,  8,  9, 10, 11, 12, 13, 14, 15, 16, 17,\n",
              "       18, 19, 20, 21, 22, 23, 24], dtype=int32)"
            ]
          },
          "metadata": {
            "tags": []
          },
          "execution_count": 159
        }
      ]
    },
    {
      "cell_type": "code",
      "metadata": {
        "colab": {
          "base_uri": "https://localhost:8080/"
        },
        "id": "lJ2bf9Glw-eN",
        "outputId": "a39798c0-d75b-48aa-d6e4-9c7e3c52d3c4"
      },
      "source": [
        "A=tf.constant(value=numpy_A)\n",
        "A"
      ],
      "execution_count": 160,
      "outputs": [
        {
          "output_type": "execute_result",
          "data": {
            "text/plain": [
              "<tf.Tensor: shape=(24,), dtype=int32, numpy=\n",
              "array([ 1,  2,  3,  4,  5,  6,  7,  8,  9, 10, 11, 12, 13, 14, 15, 16, 17,\n",
              "       18, 19, 20, 21, 22, 23, 24], dtype=int32)>"
            ]
          },
          "metadata": {
            "tags": []
          },
          "execution_count": 160
        }
      ]
    },
    {
      "cell_type": "code",
      "metadata": {
        "colab": {
          "base_uri": "https://localhost:8080/"
        },
        "id": "8FngiXcUzb0K",
        "outputId": "17b62e81-903e-49b5-f5b5-bd88600c25f1"
      },
      "source": [
        "#creating the 3 dimensional matrix\n",
        "A = tf.constant(numpy_A, shape=(2,3,4))\n",
        "A"
      ],
      "execution_count": 161,
      "outputs": [
        {
          "output_type": "execute_result",
          "data": {
            "text/plain": [
              "<tf.Tensor: shape=(2, 3, 4), dtype=int32, numpy=\n",
              "array([[[ 1,  2,  3,  4],\n",
              "        [ 5,  6,  7,  8],\n",
              "        [ 9, 10, 11, 12]],\n",
              "\n",
              "       [[13, 14, 15, 16],\n",
              "        [17, 18, 19, 20],\n",
              "        [21, 22, 23, 24]]], dtype=int32)>"
            ]
          },
          "metadata": {
            "tags": []
          },
          "execution_count": 161
        }
      ]
    },
    {
      "cell_type": "markdown",
      "metadata": {
        "id": "NZ4T4j7eIlox"
      },
      "source": [
        "Shape must be like 2*3*4=len(numpy vector)"
      ]
    },
    {
      "cell_type": "markdown",
      "metadata": {
        "id": "67rr-2d-KH7c"
      },
      "source": [
        "## Getting Information From Your tensors\n",
        "1. Shape -- the length(number of elements) of each of the dimensions of a tensor **code-tensor.ndim**\n",
        "2. Rank  -- The number of tensor dimensions. A scaler has rank 0, a vector has rank 1, a matrix is rank 2 **code-tensor.shape**\n",
        "3. Axis or dimension-- A particular dimension of a tensor **code-tensor[0],tensor[:,1]**\n",
        "4. size  -- The total number of items in the tensor **code-tf.size(tensor)**\n"
      ]
    },
    {
      "cell_type": "code",
      "metadata": {
        "colab": {
          "base_uri": "https://localhost:8080/"
        },
        "id": "erLpk_yiKNTD",
        "outputId": "67779eb6-74d9-4e85-d74f-2d59c646c378"
      },
      "source": [
        "A.ndim"
      ],
      "execution_count": 162,
      "outputs": [
        {
          "output_type": "execute_result",
          "data": {
            "text/plain": [
              "3"
            ]
          },
          "metadata": {
            "tags": []
          },
          "execution_count": 162
        }
      ]
    },
    {
      "cell_type": "code",
      "metadata": {
        "colab": {
          "base_uri": "https://localhost:8080/"
        },
        "id": "5hgXLVrgnZWK",
        "outputId": "29153e34-8c91-4ace-d73a-71d425aaeadc"
      },
      "source": [
        "#Creating a rank 4 tensor (4 dimensions)\n",
        "rank_4_tensor = tf.zeros(shape = [2,3,4,5])\n",
        "rank_4_tensor"
      ],
      "execution_count": 163,
      "outputs": [
        {
          "output_type": "execute_result",
          "data": {
            "text/plain": [
              "<tf.Tensor: shape=(2, 3, 4, 5), dtype=float32, numpy=\n",
              "array([[[[0., 0., 0., 0., 0.],\n",
              "         [0., 0., 0., 0., 0.],\n",
              "         [0., 0., 0., 0., 0.],\n",
              "         [0., 0., 0., 0., 0.]],\n",
              "\n",
              "        [[0., 0., 0., 0., 0.],\n",
              "         [0., 0., 0., 0., 0.],\n",
              "         [0., 0., 0., 0., 0.],\n",
              "         [0., 0., 0., 0., 0.]],\n",
              "\n",
              "        [[0., 0., 0., 0., 0.],\n",
              "         [0., 0., 0., 0., 0.],\n",
              "         [0., 0., 0., 0., 0.],\n",
              "         [0., 0., 0., 0., 0.]]],\n",
              "\n",
              "\n",
              "       [[[0., 0., 0., 0., 0.],\n",
              "         [0., 0., 0., 0., 0.],\n",
              "         [0., 0., 0., 0., 0.],\n",
              "         [0., 0., 0., 0., 0.]],\n",
              "\n",
              "        [[0., 0., 0., 0., 0.],\n",
              "         [0., 0., 0., 0., 0.],\n",
              "         [0., 0., 0., 0., 0.],\n",
              "         [0., 0., 0., 0., 0.]],\n",
              "\n",
              "        [[0., 0., 0., 0., 0.],\n",
              "         [0., 0., 0., 0., 0.],\n",
              "         [0., 0., 0., 0., 0.],\n",
              "         [0., 0., 0., 0., 0.]]]], dtype=float32)>"
            ]
          },
          "metadata": {
            "tags": []
          },
          "execution_count": 163
        }
      ]
    },
    {
      "cell_type": "code",
      "metadata": {
        "colab": {
          "base_uri": "https://localhost:8080/"
        },
        "id": "RpJGvtXAvlyL",
        "outputId": "2419e12c-284c-400b-a056-ae24bc0b1d42"
      },
      "source": [
        "rank_4_tensor[0]"
      ],
      "execution_count": 164,
      "outputs": [
        {
          "output_type": "execute_result",
          "data": {
            "text/plain": [
              "<tf.Tensor: shape=(3, 4, 5), dtype=float32, numpy=\n",
              "array([[[0., 0., 0., 0., 0.],\n",
              "        [0., 0., 0., 0., 0.],\n",
              "        [0., 0., 0., 0., 0.],\n",
              "        [0., 0., 0., 0., 0.]],\n",
              "\n",
              "       [[0., 0., 0., 0., 0.],\n",
              "        [0., 0., 0., 0., 0.],\n",
              "        [0., 0., 0., 0., 0.],\n",
              "        [0., 0., 0., 0., 0.]],\n",
              "\n",
              "       [[0., 0., 0., 0., 0.],\n",
              "        [0., 0., 0., 0., 0.],\n",
              "        [0., 0., 0., 0., 0.],\n",
              "        [0., 0., 0., 0., 0.]]], dtype=float32)>"
            ]
          },
          "metadata": {
            "tags": []
          },
          "execution_count": 164
        }
      ]
    },
    {
      "cell_type": "code",
      "metadata": {
        "colab": {
          "base_uri": "https://localhost:8080/"
        },
        "id": "p2zIzclnwTLc",
        "outputId": "dcdfe1ae-4204-465d-9a8c-cd8d48aff66f"
      },
      "source": [
        "rank_4_tensor.shape,rank_4_tensor.ndim,tf.size(rank_4_tensor)"
      ],
      "execution_count": 165,
      "outputs": [
        {
          "output_type": "execute_result",
          "data": {
            "text/plain": [
              "(TensorShape([2, 3, 4, 5]), 4, <tf.Tensor: shape=(), dtype=int32, numpy=120>)"
            ]
          },
          "metadata": {
            "tags": []
          },
          "execution_count": 165
        }
      ]
    },
    {
      "cell_type": "code",
      "metadata": {
        "colab": {
          "base_uri": "https://localhost:8080/"
        },
        "id": "G7-JkkmHxURt",
        "outputId": "00acbeac-fb4c-4364-bd76-17309bb3c7f8"
      },
      "source": [
        "no_of_ele = 2*3*4*5\n",
        "no_of_ele"
      ],
      "execution_count": 166,
      "outputs": [
        {
          "output_type": "execute_result",
          "data": {
            "text/plain": [
              "120"
            ]
          },
          "metadata": {
            "tags": []
          },
          "execution_count": 166
        }
      ]
    },
    {
      "cell_type": "code",
      "metadata": {
        "colab": {
          "base_uri": "https://localhost:8080/"
        },
        "id": "MBFW2QMwxjT1",
        "outputId": "d97ced27-9c0b-438d-b01b-376d23303b88"
      },
      "source": [
        "#Get various attributes of our attributes\n",
        "print('Data of every element',rank_4_tensor.dtype)\n",
        "print('Number of dimension',rank_4_tensor.ndim)\n",
        "print('Shape of tensor',rank_4_tensor.shape)\n",
        "print('Element along the 0 axis',rank_4_tensor.shape[0])\n",
        "print(\"Elements along the last axis\",rank_4_tensor.shape[-1])\n",
        "print('Total number of elements in our tensor',tf.size(rank_4_tensor))\n",
        "print('Total number of elements in our tensor',tf.size(rank_4_tensor).numpy())"
      ],
      "execution_count": 167,
      "outputs": [
        {
          "output_type": "stream",
          "text": [
            "Data of every element <dtype: 'float32'>\n",
            "Number of dimension 4\n",
            "Shape of tensor (2, 3, 4, 5)\n",
            "Element along the 0 axis 2\n",
            "Elements along the last axis 5\n",
            "Total number of elements in our tensor tf.Tensor(120, shape=(), dtype=int32)\n",
            "Total number of elements in our tensor 120\n"
          ],
          "name": "stdout"
        }
      ]
    },
    {
      "cell_type": "markdown",
      "metadata": {
        "id": "Yu8XRr0-2OJX"
      },
      "source": [
        "## Indexing and expanding tensors\n",
        "Tensors can be indexed just like python lists"
      ]
    },
    {
      "cell_type": "markdown",
      "metadata": {
        "id": "nmL-MoEs3NuR"
      },
      "source": [
        "Get the first elements of each dimension"
      ]
    },
    {
      "cell_type": "code",
      "metadata": {
        "colab": {
          "base_uri": "https://localhost:8080/"
        },
        "id": "2cIUkgxJ1ug4",
        "outputId": "07a870f9-d193-41ec-d47c-f3b6a96b3fc7"
      },
      "source": [
        "rank_4_tensor[0:2,0:2,0:2,0:2]"
      ],
      "execution_count": 168,
      "outputs": [
        {
          "output_type": "execute_result",
          "data": {
            "text/plain": [
              "<tf.Tensor: shape=(2, 2, 2, 2), dtype=float32, numpy=\n",
              "array([[[[0., 0.],\n",
              "         [0., 0.]],\n",
              "\n",
              "        [[0., 0.],\n",
              "         [0., 0.]]],\n",
              "\n",
              "\n",
              "       [[[0., 0.],\n",
              "         [0., 0.]],\n",
              "\n",
              "        [[0., 0.],\n",
              "         [0., 0.]]]], dtype=float32)>"
            ]
          },
          "metadata": {
            "tags": []
          },
          "execution_count": 168
        }
      ]
    },
    {
      "cell_type": "markdown",
      "metadata": {
        "id": "4AQUQzo-3kTC"
      },
      "source": [
        "Getting the first element from each dimension from each index except for the final one"
      ]
    },
    {
      "cell_type": "code",
      "metadata": {
        "colab": {
          "base_uri": "https://localhost:8080/"
        },
        "id": "ODWKUW5R5cL7",
        "outputId": "f96a0baf-de31-40cc-f2be-0387bf9b3eec"
      },
      "source": [
        "rank_4_tensor[:1,:1,:1]"
      ],
      "execution_count": 169,
      "outputs": [
        {
          "output_type": "execute_result",
          "data": {
            "text/plain": [
              "<tf.Tensor: shape=(1, 1, 1, 5), dtype=float32, numpy=array([[[[0., 0., 0., 0., 0.]]]], dtype=float32)>"
            ]
          },
          "metadata": {
            "tags": []
          },
          "execution_count": 169
        }
      ]
    },
    {
      "cell_type": "markdown",
      "metadata": {
        "id": "5NEo5ldQU1b7"
      },
      "source": [
        "Creating a rank 2 tensor (2 dimensions)"
      ]
    },
    {
      "cell_type": "code",
      "metadata": {
        "id": "lrMqfQNKU64H"
      },
      "source": [
        "rank_2_tensor=tf.ones(shape=(2,2))"
      ],
      "execution_count": 170,
      "outputs": []
    },
    {
      "cell_type": "code",
      "metadata": {
        "colab": {
          "base_uri": "https://localhost:8080/"
        },
        "id": "Hh00awT3VEKq",
        "outputId": "1b8499bd-916a-4e28-d7c0-328419ec4321"
      },
      "source": [
        "rank_2_tensor"
      ],
      "execution_count": 171,
      "outputs": [
        {
          "output_type": "execute_result",
          "data": {
            "text/plain": [
              "<tf.Tensor: shape=(2, 2), dtype=float32, numpy=\n",
              "array([[1., 1.],\n",
              "       [1., 1.]], dtype=float32)>"
            ]
          },
          "metadata": {
            "tags": []
          },
          "execution_count": 171
        }
      ]
    },
    {
      "cell_type": "code",
      "metadata": {
        "colab": {
          "base_uri": "https://localhost:8080/"
        },
        "id": "6sOyLLNgVG6J",
        "outputId": "43932d61-5e89-42fe-d542-a08644fceb60"
      },
      "source": [
        "rank_2_tensor.ndim"
      ],
      "execution_count": 172,
      "outputs": [
        {
          "output_type": "execute_result",
          "data": {
            "text/plain": [
              "2"
            ]
          },
          "metadata": {
            "tags": []
          },
          "execution_count": 172
        }
      ]
    },
    {
      "cell_type": "code",
      "metadata": {
        "colab": {
          "base_uri": "https://localhost:8080/"
        },
        "id": "P5UQ0UXFVUtd",
        "outputId": "5a3c4b7a-f75f-4d6b-bdd4-e08bd6020464"
      },
      "source": [
        "#Getting the last item of each row of the rank 2 tensor\n",
        "rank_2_tensor[:-1,:-1]"
      ],
      "execution_count": 173,
      "outputs": [
        {
          "output_type": "execute_result",
          "data": {
            "text/plain": [
              "<tf.Tensor: shape=(1, 1), dtype=float32, numpy=array([[1.]], dtype=float32)>"
            ]
          },
          "metadata": {
            "tags": []
          },
          "execution_count": 173
        }
      ]
    },
    {
      "cell_type": "markdown",
      "metadata": {
        "id": "n0sE8GHPVuaa"
      },
      "source": [
        "Adding extra dimension to our rank 2 tensor"
      ]
    },
    {
      "cell_type": "code",
      "metadata": {
        "colab": {
          "base_uri": "https://localhost:8080/"
        },
        "id": "HFBAHGv3W2f9",
        "outputId": "508fa588-3d97-4754-80a5-64784da55dfb"
      },
      "source": [
        "rank_3_tensor = rank_2_tensor[...,tf.newaxis]\n",
        "rank_3_tensor"
      ],
      "execution_count": 174,
      "outputs": [
        {
          "output_type": "execute_result",
          "data": {
            "text/plain": [
              "<tf.Tensor: shape=(2, 2, 1), dtype=float32, numpy=\n",
              "array([[[1.],\n",
              "        [1.]],\n",
              "\n",
              "       [[1.],\n",
              "        [1.]]], dtype=float32)>"
            ]
          },
          "metadata": {
            "tags": []
          },
          "execution_count": 174
        }
      ]
    },
    {
      "cell_type": "markdown",
      "metadata": {
        "id": "sHscyDGvZL82"
      },
      "source": [
        "Alternative to tf.newaxis"
      ]
    },
    {
      "cell_type": "code",
      "metadata": {
        "id": "recFYZFAW2pR"
      },
      "source": [
        "new_method = tf.expand_dims(rank_2_tensor,axis=-1) #-1 Means expand the final axis"
      ],
      "execution_count": 175,
      "outputs": []
    },
    {
      "cell_type": "code",
      "metadata": {
        "colab": {
          "base_uri": "https://localhost:8080/"
        },
        "id": "su87rbXnacix",
        "outputId": "724ed62a-1fa9-4414-d263-a55bf5b71ad0"
      },
      "source": [
        "new_method"
      ],
      "execution_count": 176,
      "outputs": [
        {
          "output_type": "execute_result",
          "data": {
            "text/plain": [
              "<tf.Tensor: shape=(2, 2, 1), dtype=float32, numpy=\n",
              "array([[[1.],\n",
              "        [1.]],\n",
              "\n",
              "       [[1.],\n",
              "        [1.]]], dtype=float32)>"
            ]
          },
          "metadata": {
            "tags": []
          },
          "execution_count": 176
        }
      ]
    },
    {
      "cell_type": "code",
      "metadata": {
        "colab": {
          "base_uri": "https://localhost:8080/"
        },
        "id": "nGnq6SL7bBx2",
        "outputId": "69767e07-b629-4b3d-acfc-f72296ff3478"
      },
      "source": [
        "tf.expand_dims(rank_2_tensor,axis=0)"
      ],
      "execution_count": 177,
      "outputs": [
        {
          "output_type": "execute_result",
          "data": {
            "text/plain": [
              "<tf.Tensor: shape=(1, 2, 2), dtype=float32, numpy=\n",
              "array([[[1., 1.],\n",
              "        [1., 1.]]], dtype=float32)>"
            ]
          },
          "metadata": {
            "tags": []
          },
          "execution_count": 177
        }
      ]
    },
    {
      "cell_type": "code",
      "metadata": {
        "colab": {
          "base_uri": "https://localhost:8080/"
        },
        "id": "185ojBGrbKHO",
        "outputId": "1f03d3a3-81ac-40ef-9a52-68359a7a4a18"
      },
      "source": [
        "tf.expand_dims(rank_2_tensor,axis=1) #expand the 1 axis"
      ],
      "execution_count": 178,
      "outputs": [
        {
          "output_type": "execute_result",
          "data": {
            "text/plain": [
              "<tf.Tensor: shape=(2, 1, 2), dtype=float32, numpy=\n",
              "array([[[1., 1.]],\n",
              "\n",
              "       [[1., 1.]]], dtype=float32)>"
            ]
          },
          "metadata": {
            "tags": []
          },
          "execution_count": 178
        }
      ]
    },
    {
      "cell_type": "markdown",
      "metadata": {
        "id": "-hwEFovseDzX"
      },
      "source": [
        "## Manipulating tensors with basic operations"
      ]
    },
    {
      "cell_type": "markdown",
      "metadata": {
        "id": "S_VO6wSPhfxx"
      },
      "source": [
        "**Basic Operation**"
      ]
    },
    {
      "cell_type": "code",
      "metadata": {
        "colab": {
          "base_uri": "https://localhost:8080/"
        },
        "id": "RbuQY2zvcRcL",
        "outputId": "f095bafb-0b08-4c5d-b540-869d45022c46"
      },
      "source": [
        "#You can add values to a tensor using the addition operator\n",
        "tensor = tf.constant([[10,7],[3,4]])\n",
        "tensor+10"
      ],
      "execution_count": 179,
      "outputs": [
        {
          "output_type": "execute_result",
          "data": {
            "text/plain": [
              "<tf.Tensor: shape=(2, 2), dtype=int32, numpy=\n",
              "array([[20, 17],\n",
              "       [13, 14]], dtype=int32)>"
            ]
          },
          "metadata": {
            "tags": []
          },
          "execution_count": 179
        }
      ]
    },
    {
      "cell_type": "code",
      "metadata": {
        "colab": {
          "base_uri": "https://localhost:8080/"
        },
        "id": "ZdisGIpHovR7",
        "outputId": "0adcf044-7265-46d7-9175-4d6d6e6a2b49"
      },
      "source": [
        "#Multiplication also work\n",
        "tensor*10"
      ],
      "execution_count": 180,
      "outputs": [
        {
          "output_type": "execute_result",
          "data": {
            "text/plain": [
              "<tf.Tensor: shape=(2, 2), dtype=int32, numpy=\n",
              "array([[100,  70],\n",
              "       [ 30,  40]], dtype=int32)>"
            ]
          },
          "metadata": {
            "tags": []
          },
          "execution_count": 180
        }
      ]
    },
    {
      "cell_type": "code",
      "metadata": {
        "colab": {
          "base_uri": "https://localhost:8080/"
        },
        "id": "v6TgG9tDpN8z",
        "outputId": "2e5ecef5-e1c7-4442-cd9f-fdc90de09ec3"
      },
      "source": [
        "#Subtraction of tensor\n",
        "tensor-10"
      ],
      "execution_count": 181,
      "outputs": [
        {
          "output_type": "execute_result",
          "data": {
            "text/plain": [
              "<tf.Tensor: shape=(2, 2), dtype=int32, numpy=\n",
              "array([[ 0, -3],\n",
              "       [-7, -6]], dtype=int32)>"
            ]
          },
          "metadata": {
            "tags": []
          },
          "execution_count": 181
        }
      ]
    },
    {
      "cell_type": "code",
      "metadata": {
        "colab": {
          "base_uri": "https://localhost:8080/"
        },
        "id": "ONgzAoFzpmUC",
        "outputId": "895e97a9-9bed-4c26-f4b1-845e7e78b50b"
      },
      "source": [
        "#We can use the tensorflow built-in function too\n",
        "tf.multiply(tensor,10)"
      ],
      "execution_count": 182,
      "outputs": [
        {
          "output_type": "execute_result",
          "data": {
            "text/plain": [
              "<tf.Tensor: shape=(2, 2), dtype=int32, numpy=\n",
              "array([[100,  70],\n",
              "       [ 30,  40]], dtype=int32)>"
            ]
          },
          "metadata": {
            "tags": []
          },
          "execution_count": 182
        }
      ]
    },
    {
      "cell_type": "code",
      "metadata": {
        "colab": {
          "base_uri": "https://localhost:8080/"
        },
        "id": "mVqGmNLKqE1k",
        "outputId": "51948b91-aff6-4089-b7b4-5e633245ed47"
      },
      "source": [
        "tensor #No change in tensor values"
      ],
      "execution_count": 183,
      "outputs": [
        {
          "output_type": "execute_result",
          "data": {
            "text/plain": [
              "<tf.Tensor: shape=(2, 2), dtype=int32, numpy=\n",
              "array([[10,  7],\n",
              "       [ 3,  4]], dtype=int32)>"
            ]
          },
          "metadata": {
            "tags": []
          },
          "execution_count": 183
        }
      ]
    },
    {
      "cell_type": "markdown",
      "metadata": {
        "id": "tuEWq8OqqtmC"
      },
      "source": [
        "## Matrix Multiplication - Part 1\n",
        "In machine learning, matrix multiplication is one of the most common tensor operations\n",
        "* Both matrices must be of the same type. The supported types are: bfloat16, float16, float32, float64, int32, int64, complex64, complex128.\n",
        "* The inner dimensions must match\n",
        "* The resulting matrix has the shape of the outer dimensions"
      ]
    },
    {
      "cell_type": "code",
      "metadata": {
        "colab": {
          "base_uri": "https://localhost:8080/"
        },
        "id": "bZPcaaqKqIw4",
        "outputId": "860b0e44-6823-43ee-c198-d7b04bd8860b"
      },
      "source": [
        "matrix1 = tf.constant([1,2,3,4,5,6],shape=[2,3])\n",
        "matrix1"
      ],
      "execution_count": 184,
      "outputs": [
        {
          "output_type": "execute_result",
          "data": {
            "text/plain": [
              "<tf.Tensor: shape=(2, 3), dtype=int32, numpy=\n",
              "array([[1, 2, 3],\n",
              "       [4, 5, 6]], dtype=int32)>"
            ]
          },
          "metadata": {
            "tags": []
          },
          "execution_count": 184
        }
      ]
    },
    {
      "cell_type": "code",
      "metadata": {
        "colab": {
          "base_uri": "https://localhost:8080/"
        },
        "id": "h-J8ON3lvyik",
        "outputId": "b0b730c8-031c-4425-c1b3-dea1a541118e"
      },
      "source": [
        "matrix2 = tf.constant([4,5,6,7,2,3],shape=[3,2])\n",
        "matrix2"
      ],
      "execution_count": 185,
      "outputs": [
        {
          "output_type": "execute_result",
          "data": {
            "text/plain": [
              "<tf.Tensor: shape=(3, 2), dtype=int32, numpy=\n",
              "array([[4, 5],\n",
              "       [6, 7],\n",
              "       [2, 3]], dtype=int32)>"
            ]
          },
          "metadata": {
            "tags": []
          },
          "execution_count": 185
        }
      ]
    },
    {
      "cell_type": "code",
      "metadata": {
        "colab": {
          "base_uri": "https://localhost:8080/"
        },
        "id": "H4Atf51Cv7Bl",
        "outputId": "e72a0777-a221-4e1c-9663-21a97bba6723"
      },
      "source": [
        "tf.matmul(matrix1,matrix2) #Matrix multiplication"
      ],
      "execution_count": 186,
      "outputs": [
        {
          "output_type": "execute_result",
          "data": {
            "text/plain": [
              "<tf.Tensor: shape=(2, 2), dtype=int32, numpy=\n",
              "array([[22, 28],\n",
              "       [58, 73]], dtype=int32)>"
            ]
          },
          "metadata": {
            "tags": []
          },
          "execution_count": 186
        }
      ]
    },
    {
      "cell_type": "code",
      "metadata": {
        "colab": {
          "base_uri": "https://localhost:8080/"
        },
        "id": "-Uo1qvj6wfgH",
        "outputId": "c52ad544-d773-4cc6-d02f-fb642c926d24"
      },
      "source": [
        "a = tf.constant(np.arange(1, 13, dtype=np.int32), shape=[2, 2, 3])\n",
        "a"
      ],
      "execution_count": 187,
      "outputs": [
        {
          "output_type": "execute_result",
          "data": {
            "text/plain": [
              "<tf.Tensor: shape=(2, 2, 3), dtype=int32, numpy=\n",
              "array([[[ 1,  2,  3],\n",
              "        [ 4,  5,  6]],\n",
              "\n",
              "       [[ 7,  8,  9],\n",
              "        [10, 11, 12]]], dtype=int32)>"
            ]
          },
          "metadata": {
            "tags": []
          },
          "execution_count": 187
        }
      ]
    },
    {
      "cell_type": "code",
      "metadata": {
        "colab": {
          "base_uri": "https://localhost:8080/"
        },
        "id": "-4kngokPyMEQ",
        "outputId": "3340ddd3-f44e-4e84-d32b-a3e0a3d27de8"
      },
      "source": [
        "b = tf.constant(np.arange(13, 25, dtype=np.int32), shape=[2, 3, 2])\n",
        "b"
      ],
      "execution_count": 188,
      "outputs": [
        {
          "output_type": "execute_result",
          "data": {
            "text/plain": [
              "<tf.Tensor: shape=(2, 3, 2), dtype=int32, numpy=\n",
              "array([[[13, 14],\n",
              "        [15, 16],\n",
              "        [17, 18]],\n",
              "\n",
              "       [[19, 20],\n",
              "        [21, 22],\n",
              "        [23, 24]]], dtype=int32)>"
            ]
          },
          "metadata": {
            "tags": []
          },
          "execution_count": 188
        }
      ]
    },
    {
      "cell_type": "code",
      "metadata": {
        "colab": {
          "base_uri": "https://localhost:8080/"
        },
        "id": "hDotK89_yRxx",
        "outputId": "edba9b5d-e7c7-4104-a0d3-b8315a03a92c"
      },
      "source": [
        "mul = tf.matmul(a,b)\n",
        "mul"
      ],
      "execution_count": 189,
      "outputs": [
        {
          "output_type": "execute_result",
          "data": {
            "text/plain": [
              "<tf.Tensor: shape=(2, 2, 2), dtype=int32, numpy=\n",
              "array([[[ 94, 100],\n",
              "        [229, 244]],\n",
              "\n",
              "       [[508, 532],\n",
              "        [697, 730]]], dtype=int32)>"
            ]
          },
          "metadata": {
            "tags": []
          },
          "execution_count": 189
        }
      ]
    },
    {
      "cell_type": "markdown",
      "metadata": {
        "id": "12JBuZI6zKeK"
      },
      "source": [
        "**tf.matmul()** attributes\n",
        "1. **transpose_a**\tIf True, a is transposed before multiplication.\n",
        "2. **transpose_b**  If True, b is transposed before multiplication.\n",
        "3. **adjoint_a**    If True, a is conjugated and transposed before multiplication. \n",
        "4. **adjoint_b**    If True, b is conjugated and transposed before multiplication."
      ]
    },
    {
      "cell_type": "code",
      "metadata": {
        "id": "xpg3Ef-h0O13"
      },
      "source": [
        "#Matrix Multiplication with python operator \"@\"\n",
        "c=a@b"
      ],
      "execution_count": 190,
      "outputs": []
    },
    {
      "cell_type": "code",
      "metadata": {
        "colab": {
          "base_uri": "https://localhost:8080/"
        },
        "id": "tmKFqgPN0ffh",
        "outputId": "8ba8284f-6a0a-4c41-a18f-0abd8706aed2"
      },
      "source": [
        "c.shape"
      ],
      "execution_count": 191,
      "outputs": [
        {
          "output_type": "execute_result",
          "data": {
            "text/plain": [
              "TensorShape([2, 2, 2])"
            ]
          },
          "metadata": {
            "tags": []
          },
          "execution_count": 191
        }
      ]
    },
    {
      "cell_type": "code",
      "metadata": {
        "id": "hPifunPO7Tiu"
      },
      "source": [
        ""
      ],
      "execution_count": 191,
      "outputs": []
    },
    {
      "cell_type": "markdown",
      "metadata": {
        "id": "KkcelP6O7ZJ0"
      },
      "source": [
        "## Matrix Multiplication - Part 2"
      ]
    },
    {
      "cell_type": "code",
      "metadata": {
        "colab": {
          "base_uri": "https://localhost:8080/"
        },
        "id": "fq7XDgDH7dMj",
        "outputId": "ca3aaae5-2248-4eb7-d869-20abefa165f3"
      },
      "source": [
        "x = tf.constant([[1,2,3],\n",
        "                 [8,9,4]])\n",
        "x"
      ],
      "execution_count": 192,
      "outputs": [
        {
          "output_type": "execute_result",
          "data": {
            "text/plain": [
              "<tf.Tensor: shape=(2, 3), dtype=int32, numpy=\n",
              "array([[1, 2, 3],\n",
              "       [8, 9, 4]], dtype=int32)>"
            ]
          },
          "metadata": {
            "tags": []
          },
          "execution_count": 192
        }
      ]
    },
    {
      "cell_type": "code",
      "metadata": {
        "colab": {
          "base_uri": "https://localhost:8080/"
        },
        "id": "pJcoPlLr8rIg",
        "outputId": "2424a9bb-219b-4ced-d9ae-97fbf5b95044"
      },
      "source": [
        "y = tf.constant([[0,1,3],\n",
        "                 [6,9,5]])\n",
        "y"
      ],
      "execution_count": 193,
      "outputs": [
        {
          "output_type": "execute_result",
          "data": {
            "text/plain": [
              "<tf.Tensor: shape=(2, 3), dtype=int32, numpy=\n",
              "array([[0, 1, 3],\n",
              "       [6, 9, 5]], dtype=int32)>"
            ]
          },
          "metadata": {
            "tags": []
          },
          "execution_count": 193
        }
      ]
    },
    {
      "cell_type": "code",
      "metadata": {
        "id": "-FYGSI-M8xt9"
      },
      "source": [
        "#tf.matmul(x,y)"
      ],
      "execution_count": 194,
      "outputs": []
    },
    {
      "cell_type": "code",
      "metadata": {
        "colab": {
          "base_uri": "https://localhost:8080/"
        },
        "id": "J4hEf-rp9m1k",
        "outputId": "998faf2a-5bfa-4d32-fc85-7aaf65c88a51"
      },
      "source": [
        "#Let's change the shape of y\n",
        "y=tf.reshape(y,shape=[3,2])\n",
        "y"
      ],
      "execution_count": 195,
      "outputs": [
        {
          "output_type": "execute_result",
          "data": {
            "text/plain": [
              "<tf.Tensor: shape=(3, 2), dtype=int32, numpy=\n",
              "array([[0, 1],\n",
              "       [3, 6],\n",
              "       [9, 5]], dtype=int32)>"
            ]
          },
          "metadata": {
            "tags": []
          },
          "execution_count": 195
        }
      ]
    },
    {
      "cell_type": "code",
      "metadata": {
        "colab": {
          "base_uri": "https://localhost:8080/"
        },
        "id": "J28LQpqV9xid",
        "outputId": "973a98b1-deec-44b3-aba7-20cd91135b17"
      },
      "source": [
        "#Try to multiply x by reshaped y\n",
        "x @ y"
      ],
      "execution_count": 196,
      "outputs": [
        {
          "output_type": "execute_result",
          "data": {
            "text/plain": [
              "<tf.Tensor: shape=(2, 2), dtype=int32, numpy=\n",
              "array([[33, 28],\n",
              "       [63, 82]], dtype=int32)>"
            ]
          },
          "metadata": {
            "tags": []
          },
          "execution_count": 196
        }
      ]
    },
    {
      "cell_type": "code",
      "metadata": {
        "colab": {
          "base_uri": "https://localhost:8080/"
        },
        "id": "FkK044iW_bCJ",
        "outputId": "538c3eee-de1f-4fe9-ccf4-d41e81471c81"
      },
      "source": [
        "tf.matmul(x,y)"
      ],
      "execution_count": 197,
      "outputs": [
        {
          "output_type": "execute_result",
          "data": {
            "text/plain": [
              "<tf.Tensor: shape=(2, 2), dtype=int32, numpy=\n",
              "array([[33, 28],\n",
              "       [63, 82]], dtype=int32)>"
            ]
          },
          "metadata": {
            "tags": []
          },
          "execution_count": 197
        }
      ]
    },
    {
      "cell_type": "markdown",
      "metadata": {
        "id": "3a8jj6jRccKy"
      },
      "source": [
        "## Matrix Multiplication - Part 3\n",
        "**The dot product**\n",
        "Matrix multiplication is also referred to as the dot product.\n",
        "We can Perform matrix multiplication using:-\n",
        "* 'tf.matmul()'\n",
        "* 'tf.tensordot()'"
      ]
    },
    {
      "cell_type": "code",
      "metadata": {
        "colab": {
          "base_uri": "https://localhost:8080/"
        },
        "id": "tFLmwmZ3dxKY",
        "outputId": "f0ba9a44-6bb6-4f95-d5db-944ef01502ec"
      },
      "source": [
        "x,y"
      ],
      "execution_count": 198,
      "outputs": [
        {
          "output_type": "execute_result",
          "data": {
            "text/plain": [
              "(<tf.Tensor: shape=(2, 3), dtype=int32, numpy=\n",
              " array([[1, 2, 3],\n",
              "        [8, 9, 4]], dtype=int32)>,\n",
              " <tf.Tensor: shape=(3, 2), dtype=int32, numpy=\n",
              " array([[0, 1],\n",
              "        [3, 6],\n",
              "        [9, 5]], dtype=int32)>)"
            ]
          },
          "metadata": {
            "tags": []
          },
          "execution_count": 198
        }
      ]
    },
    {
      "cell_type": "code",
      "metadata": {
        "colab": {
          "base_uri": "https://localhost:8080/"
        },
        "id": "cdUO2wCGcjv8",
        "outputId": "e809d3a5-165f-43dd-c743-396556b49e94"
      },
      "source": [
        "#Perform the dot product on x and y (requires x or y to be transposed)\n",
        "tf.tensordot(tf.transpose(x),tf.transpose(y),axes=1) #axes = 1 means for matrix multiplication"
      ],
      "execution_count": 199,
      "outputs": [
        {
          "output_type": "execute_result",
          "data": {
            "text/plain": [
              "<tf.Tensor: shape=(3, 3), dtype=int32, numpy=\n",
              "array([[ 8, 51, 49],\n",
              "       [ 9, 60, 63],\n",
              "       [ 4, 33, 47]], dtype=int32)>"
            ]
          },
          "metadata": {
            "tags": []
          },
          "execution_count": 199
        }
      ]
    },
    {
      "cell_type": "code",
      "metadata": {
        "colab": {
          "base_uri": "https://localhost:8080/"
        },
        "id": "xJTbNQI1h3Q5",
        "outputId": "5e51aabb-32fa-4c81-c6f9-d70324d9ee2c"
      },
      "source": [
        "tf.transpose(y)"
      ],
      "execution_count": 200,
      "outputs": [
        {
          "output_type": "execute_result",
          "data": {
            "text/plain": [
              "<tf.Tensor: shape=(2, 3), dtype=int32, numpy=\n",
              "array([[0, 3, 9],\n",
              "       [1, 6, 5]], dtype=int32)>"
            ]
          },
          "metadata": {
            "tags": []
          },
          "execution_count": 200
        }
      ]
    },
    {
      "cell_type": "code",
      "metadata": {
        "colab": {
          "base_uri": "https://localhost:8080/"
        },
        "id": "2hoyoiMvkQPo",
        "outputId": "f26ae78e-be51-402a-993f-f9e1ae901aed"
      },
      "source": [
        "print('Normal y:')\n",
        "print(y,'\\n')\n",
        "print(\"y reshaped to (2,3):\")\n",
        "print(tf.reshape(y,shape=(2,3)),\"\\n\")\n",
        "print(\"y transposed \")\n",
        "print(tf.transpose(y))"
      ],
      "execution_count": 201,
      "outputs": [
        {
          "output_type": "stream",
          "text": [
            "Normal y:\n",
            "tf.Tensor(\n",
            "[[0 1]\n",
            " [3 6]\n",
            " [9 5]], shape=(3, 2), dtype=int32) \n",
            "\n",
            "y reshaped to (2,3):\n",
            "tf.Tensor(\n",
            "[[0 1 3]\n",
            " [6 9 5]], shape=(2, 3), dtype=int32) \n",
            "\n",
            "y transposed \n",
            "tf.Tensor(\n",
            "[[0 3 9]\n",
            " [1 6 5]], shape=(2, 3), dtype=int32)\n"
          ],
          "name": "stdout"
        }
      ]
    },
    {
      "cell_type": "markdown",
      "metadata": {
        "id": "iYinOeHJldTS"
      },
      "source": [
        "## Changing the datatype of a tensor"
      ]
    },
    {
      "cell_type": "code",
      "metadata": {
        "colab": {
          "base_uri": "https://localhost:8080/"
        },
        "id": "bkFlKWghk8AJ",
        "outputId": "9c2f2ce7-b7df-448b-d843-903f0696d02f"
      },
      "source": [
        "#Create a new tensor with default datatype (float32)\n",
        "b = tf.constant([1.7,7.4])\n",
        "b.dtype"
      ],
      "execution_count": 202,
      "outputs": [
        {
          "output_type": "execute_result",
          "data": {
            "text/plain": [
              "tf.float32"
            ]
          },
          "metadata": {
            "tags": []
          },
          "execution_count": 202
        }
      ]
    },
    {
      "cell_type": "code",
      "metadata": {
        "colab": {
          "base_uri": "https://localhost:8080/"
        },
        "id": "J0LF8BKBm15-",
        "outputId": "8b7382c2-99e6-47a2-b3b3-82cacbb59ed1"
      },
      "source": [
        "c = tf.constant([7,10])\n",
        "c.dtype"
      ],
      "execution_count": 203,
      "outputs": [
        {
          "output_type": "execute_result",
          "data": {
            "text/plain": [
              "tf.int32"
            ]
          },
          "metadata": {
            "tags": []
          },
          "execution_count": 203
        }
      ]
    },
    {
      "cell_type": "code",
      "metadata": {
        "colab": {
          "base_uri": "https://localhost:8080/"
        },
        "id": "sjlaZ54unr-8",
        "outputId": "46d1bbb7-e1f6-4426-d01d-255769867696"
      },
      "source": [
        "# Change from float32 to float16(Reduced)\n",
        "b= tf.cast(b,dtype=tf.float16)\n",
        "b"
      ],
      "execution_count": 204,
      "outputs": [
        {
          "output_type": "execute_result",
          "data": {
            "text/plain": [
              "<tf.Tensor: shape=(2,), dtype=float16, numpy=array([1.7, 7.4], dtype=float16)>"
            ]
          },
          "metadata": {
            "tags": []
          },
          "execution_count": 204
        }
      ]
    },
    {
      "cell_type": "code",
      "metadata": {
        "colab": {
          "base_uri": "https://localhost:8080/"
        },
        "id": "TU_20_zUpnFr",
        "outputId": "bee23eba-3c0d-4a46-8033-2b8113289a1d"
      },
      "source": [
        "#Changes from float32 to float16 (Reduced Precision)\n",
        "d = tf.cast(b,dtype=tf.float32)\n",
        "d"
      ],
      "execution_count": 205,
      "outputs": [
        {
          "output_type": "execute_result",
          "data": {
            "text/plain": [
              "<tf.Tensor: shape=(2,), dtype=float32, numpy=array([1.7001953, 7.3984375], dtype=float32)>"
            ]
          },
          "metadata": {
            "tags": []
          },
          "execution_count": 205
        }
      ]
    },
    {
      "cell_type": "code",
      "metadata": {
        "id": "uKnAVBTnqFUw"
      },
      "source": [
        ""
      ],
      "execution_count": 205,
      "outputs": []
    },
    {
      "cell_type": "markdown",
      "metadata": {
        "id": "1cnQkyAFqDz1"
      },
      "source": [
        "## Aggregating Tensors\n",
        "Aggregating tensors = Condensing them from multiple values down to a smaller amount of values"
      ]
    },
    {
      "cell_type": "code",
      "metadata": {
        "colab": {
          "base_uri": "https://localhost:8080/"
        },
        "id": "-x7eDWKPZIhW",
        "outputId": "8cc3a931-78d1-428f-e215-58bd81bd0f26"
      },
      "source": [
        "#Get the absolute values\n",
        "D = tf.constant([-7,-10])\n",
        "tf.abs(D)"
      ],
      "execution_count": 206,
      "outputs": [
        {
          "output_type": "execute_result",
          "data": {
            "text/plain": [
              "<tf.Tensor: shape=(2,), dtype=int32, numpy=array([ 7, 10], dtype=int32)>"
            ]
          },
          "metadata": {
            "tags": []
          },
          "execution_count": 206
        }
      ]
    },
    {
      "cell_type": "code",
      "metadata": {
        "colab": {
          "base_uri": "https://localhost:8080/"
        },
        "id": "4gIPWszja9fq",
        "outputId": "2825ebaf-1ebf-4bc3-f812-47356f9db188"
      },
      "source": [
        "compl = tf.constant([[-4 + 3j], [-3 + 4j]])\n",
        "tf.abs(compl)"
      ],
      "execution_count": 207,
      "outputs": [
        {
          "output_type": "execute_result",
          "data": {
            "text/plain": [
              "<tf.Tensor: shape=(2, 1), dtype=float64, numpy=\n",
              "array([[5.],\n",
              "       [5.]])>"
            ]
          },
          "metadata": {
            "tags": []
          },
          "execution_count": 207
        }
      ]
    },
    {
      "cell_type": "markdown",
      "metadata": {
        "id": "SSFXuFJubZvR"
      },
      "source": [
        "Let's go through the following forms of aggregation:\n",
        "* Get the minimum\n",
        "* Get the maximum\n",
        "* Get the mean of a tensor\n",
        "* Get the sum of a tensor"
      ]
    },
    {
      "cell_type": "code",
      "metadata": {
        "colab": {
          "base_uri": "https://localhost:8080/"
        },
        "id": "BfOvxr5caR5v",
        "outputId": "39a2249a-1234-4fb8-f179-3067c4abfcac"
      },
      "source": [
        "# Create a random tensor with values between 0 and 100 of size 50\n",
        "np.random.seed(42)\n",
        "E = tf.constant(np.random.randint(0,100,size=50))\n",
        "E"
      ],
      "execution_count": 208,
      "outputs": [
        {
          "output_type": "execute_result",
          "data": {
            "text/plain": [
              "<tf.Tensor: shape=(50,), dtype=int64, numpy=\n",
              "array([51, 92, 14, 71, 60, 20, 82, 86, 74, 74, 87, 99, 23,  2, 21, 52,  1,\n",
              "       87, 29, 37,  1, 63, 59, 20, 32, 75, 57, 21, 88, 48, 90, 58, 41, 91,\n",
              "       59, 79, 14, 61, 61, 46, 61, 50, 54, 63,  2, 50,  6, 20, 72, 38])>"
            ]
          },
          "metadata": {
            "tags": []
          },
          "execution_count": 208
        }
      ]
    },
    {
      "cell_type": "code",
      "metadata": {
        "colab": {
          "base_uri": "https://localhost:8080/"
        },
        "id": "FdvhJrNzdSbA",
        "outputId": "33a91c2b-047a-48f5-aa13-a67f1a08415b"
      },
      "source": [
        "tf.size(E),E.shape,E.ndim"
      ],
      "execution_count": 209,
      "outputs": [
        {
          "output_type": "execute_result",
          "data": {
            "text/plain": [
              "(<tf.Tensor: shape=(), dtype=int32, numpy=50>, TensorShape([50]), 1)"
            ]
          },
          "metadata": {
            "tags": []
          },
          "execution_count": 209
        }
      ]
    },
    {
      "cell_type": "code",
      "metadata": {
        "colab": {
          "base_uri": "https://localhost:8080/"
        },
        "id": "3hsmV3nrduWp",
        "outputId": "21bdb58f-9e25-4030-b9a8-104e88d5f89b"
      },
      "source": [
        "#find the minimum\n",
        "tf.reduce_min(E)"
      ],
      "execution_count": 210,
      "outputs": [
        {
          "output_type": "execute_result",
          "data": {
            "text/plain": [
              "<tf.Tensor: shape=(), dtype=int64, numpy=1>"
            ]
          },
          "metadata": {
            "tags": []
          },
          "execution_count": 210
        }
      ]
    },
    {
      "cell_type": "code",
      "metadata": {
        "colab": {
          "base_uri": "https://localhost:8080/"
        },
        "id": "I9_aadNMeATV",
        "outputId": "3dded338-499a-4bb6-a6bc-25239fe83aaf"
      },
      "source": [
        "#Find the max\n",
        "tf.reduce_max(E)"
      ],
      "execution_count": 211,
      "outputs": [
        {
          "output_type": "execute_result",
          "data": {
            "text/plain": [
              "<tf.Tensor: shape=(), dtype=int64, numpy=99>"
            ]
          },
          "metadata": {
            "tags": []
          },
          "execution_count": 211
        }
      ]
    },
    {
      "cell_type": "code",
      "metadata": {
        "colab": {
          "base_uri": "https://localhost:8080/"
        },
        "id": "vm8sbz-Qea1V",
        "outputId": "b519042b-eaad-4bdc-f457-aad7530df46f"
      },
      "source": [
        "#Find the sum\n",
        "tf.reduce_sum(E)"
      ],
      "execution_count": 212,
      "outputs": [
        {
          "output_type": "execute_result",
          "data": {
            "text/plain": [
              "<tf.Tensor: shape=(), dtype=int64, numpy=2542>"
            ]
          },
          "metadata": {
            "tags": []
          },
          "execution_count": 212
        }
      ]
    },
    {
      "cell_type": "markdown",
      "metadata": {
        "id": "J7gYdz1SfHXh"
      },
      "source": [
        "**Exercise**-- With what we've just learned, find the variance and standard deviation of our 'E' tensor using TensorFlow methods."
      ]
    },
    {
      "cell_type": "code",
      "metadata": {
        "colab": {
          "base_uri": "https://localhost:8080/"
        },
        "id": "2B5cMUhyfg7J",
        "outputId": "bd4d5cba-ca17-48bb-86e1-7ec760f034ef"
      },
      "source": [
        "import tensorflow_probability as tfp\n",
        "#Find the variance\n",
        "tfp.stats.variance(E)"
      ],
      "execution_count": 213,
      "outputs": [
        {
          "output_type": "execute_result",
          "data": {
            "text/plain": [
              "<tf.Tensor: shape=(), dtype=int64, numpy=776>"
            ]
          },
          "metadata": {
            "tags": []
          },
          "execution_count": 213
        }
      ]
    },
    {
      "cell_type": "code",
      "metadata": {
        "colab": {
          "base_uri": "https://localhost:8080/"
        },
        "id": "nrqMeW5VoLUx",
        "outputId": "98efdaea-0d4a-4cee-d737-0866404416ad"
      },
      "source": [
        "#Find the standard Deviation\n",
        "tf.math.reduce_std(tf.cast(E,dtype='float32'))"
      ],
      "execution_count": 214,
      "outputs": [
        {
          "output_type": "execute_result",
          "data": {
            "text/plain": [
              "<tf.Tensor: shape=(), dtype=float32, numpy=27.849854>"
            ]
          },
          "metadata": {
            "tags": []
          },
          "execution_count": 214
        }
      ]
    },
    {
      "cell_type": "markdown",
      "metadata": {
        "id": "aoSVDITXt7PE"
      },
      "source": [
        "## Find the positional maximum and minimum"
      ]
    },
    {
      "cell_type": "code",
      "metadata": {
        "colab": {
          "base_uri": "https://localhost:8080/"
        },
        "id": "7W8JyI32uBlL",
        "outputId": "5de1aa24-c96f-4b84-fdfa-3722d5dc04ff"
      },
      "source": [
        "#Create a new tensor for finding positional minimum and maximum\n",
        "tf.random.set_seed(42)\n",
        "f = tf.random.uniform(shape=[50])\n",
        "f"
      ],
      "execution_count": 215,
      "outputs": [
        {
          "output_type": "execute_result",
          "data": {
            "text/plain": [
              "<tf.Tensor: shape=(50,), dtype=float32, numpy=\n",
              "array([0.6645621 , 0.44100678, 0.3528825 , 0.46448255, 0.03366041,\n",
              "       0.68467236, 0.74011743, 0.8724445 , 0.22632635, 0.22319686,\n",
              "       0.3103881 , 0.7223358 , 0.13318717, 0.5480639 , 0.5746088 ,\n",
              "       0.8996835 , 0.00946367, 0.5212307 , 0.6345445 , 0.1993283 ,\n",
              "       0.72942245, 0.54583454, 0.10756552, 0.6767061 , 0.6602763 ,\n",
              "       0.33695042, 0.60141766, 0.21062577, 0.8527372 , 0.44062173,\n",
              "       0.9485276 , 0.23752594, 0.81179297, 0.5263394 , 0.494308  ,\n",
              "       0.21612847, 0.8457197 , 0.8718841 , 0.3083862 , 0.6868038 ,\n",
              "       0.23764038, 0.7817228 , 0.9671384 , 0.06870162, 0.79873943,\n",
              "       0.66028714, 0.5871513 , 0.16461694, 0.7381023 , 0.32054043],\n",
              "      dtype=float32)>"
            ]
          },
          "metadata": {
            "tags": []
          },
          "execution_count": 215
        }
      ]
    },
    {
      "cell_type": "code",
      "metadata": {
        "colab": {
          "base_uri": "https://localhost:8080/"
        },
        "id": "VRc2OxTG1ohb",
        "outputId": "68c706bb-a0ab-4602-d3dd-abf1367e36df"
      },
      "source": [
        "#Find the positional maximum\n",
        "tf.argmax(f)"
      ],
      "execution_count": 216,
      "outputs": [
        {
          "output_type": "execute_result",
          "data": {
            "text/plain": [
              "<tf.Tensor: shape=(), dtype=int64, numpy=42>"
            ]
          },
          "metadata": {
            "tags": []
          },
          "execution_count": 216
        }
      ]
    },
    {
      "cell_type": "code",
      "metadata": {
        "colab": {
          "base_uri": "https://localhost:8080/"
        },
        "id": "5sAGuQ2727Uu",
        "outputId": "87ea8304-8f59-44f2-c9e9-b4368b565fe5"
      },
      "source": [
        "#Index on our largest value position\n",
        "f[tf.argmax(f)]"
      ],
      "execution_count": 217,
      "outputs": [
        {
          "output_type": "execute_result",
          "data": {
            "text/plain": [
              "<tf.Tensor: shape=(), dtype=float32, numpy=0.9671384>"
            ]
          },
          "metadata": {
            "tags": []
          },
          "execution_count": 217
        }
      ]
    },
    {
      "cell_type": "code",
      "metadata": {
        "colab": {
          "base_uri": "https://localhost:8080/"
        },
        "id": "-eUJSCt63GT_",
        "outputId": "457663c3-7a03-4731-fd3f-7b3eacfc3d46"
      },
      "source": [
        "#Find the max value of F\n",
        "tf.reduce_max(f)"
      ],
      "execution_count": 218,
      "outputs": [
        {
          "output_type": "execute_result",
          "data": {
            "text/plain": [
              "<tf.Tensor: shape=(), dtype=float32, numpy=0.9671384>"
            ]
          },
          "metadata": {
            "tags": []
          },
          "execution_count": 218
        }
      ]
    },
    {
      "cell_type": "code",
      "metadata": {
        "colab": {
          "base_uri": "https://localhost:8080/"
        },
        "id": "cDQFBpQ43OZV",
        "outputId": "0f349fb8-a1a6-49aa-dcd2-f9807f2a66e2"
      },
      "source": [
        "#Check for equality\n",
        "f[tf.argmax(f)] == tf.reduce_max(f)"
      ],
      "execution_count": 219,
      "outputs": [
        {
          "output_type": "execute_result",
          "data": {
            "text/plain": [
              "<tf.Tensor: shape=(), dtype=bool, numpy=True>"
            ]
          },
          "metadata": {
            "tags": []
          },
          "execution_count": 219
        }
      ]
    },
    {
      "cell_type": "code",
      "metadata": {
        "id": "C3WmINZj3xBv"
      },
      "source": [
        "assert f[tf.argmax(f)] == tf.reduce_max(f)"
      ],
      "execution_count": 220,
      "outputs": []
    },
    {
      "cell_type": "code",
      "metadata": {
        "colab": {
          "base_uri": "https://localhost:8080/"
        },
        "id": "15VQRODl4ldG",
        "outputId": "b6487cec-2e24-4c13-dc96-42faa330e2f4"
      },
      "source": [
        "#Finding the minimum\n",
        "f[tf.argmin(f)]"
      ],
      "execution_count": 221,
      "outputs": [
        {
          "output_type": "execute_result",
          "data": {
            "text/plain": [
              "<tf.Tensor: shape=(), dtype=float32, numpy=0.009463668>"
            ]
          },
          "metadata": {
            "tags": []
          },
          "execution_count": 221
        }
      ]
    },
    {
      "cell_type": "code",
      "metadata": {
        "id": "ecyzv_hk4q9x"
      },
      "source": [
        "assert tf.reduce_min(f) == f[tf.argmin(f)]"
      ],
      "execution_count": 222,
      "outputs": []
    },
    {
      "cell_type": "markdown",
      "metadata": {
        "id": "3aOitBzG5Cvz"
      },
      "source": [
        "## Squeezing a tensor (removing all 1-dimension axes)"
      ]
    },
    {
      "cell_type": "code",
      "metadata": {
        "colab": {
          "base_uri": "https://localhost:8080/"
        },
        "id": "SBW_mwhJ6NHE",
        "outputId": "54fa27d2-d186-4e5d-aa88-c6235e682ef1"
      },
      "source": [
        "#Create a tensor to get started\n",
        "tf.random.set_seed(42)\n",
        "G = tf.constant(tf.random.uniform(shape=[50]),shape=(1,1,1,1,50))\n",
        "G"
      ],
      "execution_count": 223,
      "outputs": [
        {
          "output_type": "execute_result",
          "data": {
            "text/plain": [
              "<tf.Tensor: shape=(1, 1, 1, 1, 50), dtype=float32, numpy=\n",
              "array([[[[[0.6645621 , 0.44100678, 0.3528825 , 0.46448255, 0.03366041,\n",
              "           0.68467236, 0.74011743, 0.8724445 , 0.22632635, 0.22319686,\n",
              "           0.3103881 , 0.7223358 , 0.13318717, 0.5480639 , 0.5746088 ,\n",
              "           0.8996835 , 0.00946367, 0.5212307 , 0.6345445 , 0.1993283 ,\n",
              "           0.72942245, 0.54583454, 0.10756552, 0.6767061 , 0.6602763 ,\n",
              "           0.33695042, 0.60141766, 0.21062577, 0.8527372 , 0.44062173,\n",
              "           0.9485276 , 0.23752594, 0.81179297, 0.5263394 , 0.494308  ,\n",
              "           0.21612847, 0.8457197 , 0.8718841 , 0.3083862 , 0.6868038 ,\n",
              "           0.23764038, 0.7817228 , 0.9671384 , 0.06870162, 0.79873943,\n",
              "           0.66028714, 0.5871513 , 0.16461694, 0.7381023 , 0.32054043]]]]],\n",
              "      dtype=float32)>"
            ]
          },
          "metadata": {
            "tags": []
          },
          "execution_count": 223
        }
      ]
    },
    {
      "cell_type": "code",
      "metadata": {
        "colab": {
          "base_uri": "https://localhost:8080/"
        },
        "id": "OLTTv1Do7Q0b",
        "outputId": "40d86f3d-aee7-4910-a7b3-b963ef32d198"
      },
      "source": [
        "G.shape"
      ],
      "execution_count": 224,
      "outputs": [
        {
          "output_type": "execute_result",
          "data": {
            "text/plain": [
              "TensorShape([1, 1, 1, 1, 50])"
            ]
          },
          "metadata": {
            "tags": []
          },
          "execution_count": 224
        }
      ]
    },
    {
      "cell_type": "code",
      "metadata": {
        "colab": {
          "base_uri": "https://localhost:8080/"
        },
        "id": "uR8SXYVe7kXH",
        "outputId": "78f76996-d273-443f-91fa-29a3a8b2d16d"
      },
      "source": [
        "G_squeezed = tf.squeeze(G)\n",
        "G_squeezed,G_squeezed.shape"
      ],
      "execution_count": 225,
      "outputs": [
        {
          "output_type": "execute_result",
          "data": {
            "text/plain": [
              "(<tf.Tensor: shape=(50,), dtype=float32, numpy=\n",
              " array([0.6645621 , 0.44100678, 0.3528825 , 0.46448255, 0.03366041,\n",
              "        0.68467236, 0.74011743, 0.8724445 , 0.22632635, 0.22319686,\n",
              "        0.3103881 , 0.7223358 , 0.13318717, 0.5480639 , 0.5746088 ,\n",
              "        0.8996835 , 0.00946367, 0.5212307 , 0.6345445 , 0.1993283 ,\n",
              "        0.72942245, 0.54583454, 0.10756552, 0.6767061 , 0.6602763 ,\n",
              "        0.33695042, 0.60141766, 0.21062577, 0.8527372 , 0.44062173,\n",
              "        0.9485276 , 0.23752594, 0.81179297, 0.5263394 , 0.494308  ,\n",
              "        0.21612847, 0.8457197 , 0.8718841 , 0.3083862 , 0.6868038 ,\n",
              "        0.23764038, 0.7817228 , 0.9671384 , 0.06870162, 0.79873943,\n",
              "        0.66028714, 0.5871513 , 0.16461694, 0.7381023 , 0.32054043],\n",
              "       dtype=float32)>, TensorShape([50]))"
            ]
          },
          "metadata": {
            "tags": []
          },
          "execution_count": 225
        }
      ]
    },
    {
      "cell_type": "markdown",
      "metadata": {
        "id": "Tiaw8crI8EEK"
      },
      "source": [
        "## One HOT Encoding "
      ]
    },
    {
      "cell_type": "code",
      "metadata": {
        "colab": {
          "base_uri": "https://localhost:8080/"
        },
        "id": "z2Yd_4ql75Iu",
        "outputId": "04cec035-1516-44b8-ec7f-b2a66350aef8"
      },
      "source": [
        "#Create a list of indices\n",
        "some_list = [0,1,2,3] #red, green, blue, purple\n",
        "#One hot encode our list of indices\n",
        "tf.one_hot(some_list,depth=len(some_list))"
      ],
      "execution_count": 226,
      "outputs": [
        {
          "output_type": "execute_result",
          "data": {
            "text/plain": [
              "<tf.Tensor: shape=(4, 4), dtype=float32, numpy=\n",
              "array([[1., 0., 0., 0.],\n",
              "       [0., 1., 0., 0.],\n",
              "       [0., 0., 1., 0.],\n",
              "       [0., 0., 0., 1.]], dtype=float32)>"
            ]
          },
          "metadata": {
            "tags": []
          },
          "execution_count": 226
        }
      ]
    },
    {
      "cell_type": "markdown",
      "metadata": {
        "id": "VSc7SWJrgkbk"
      },
      "source": [
        "The locations represented by indices in indices take value on_value, while all other locations take value off_value"
      ]
    },
    {
      "cell_type": "code",
      "metadata": {
        "colab": {
          "base_uri": "https://localhost:8080/"
        },
        "id": "-zR-lf47_rX8",
        "outputId": "ac02a9b7-5775-430a-ccc0-3a861f77b199"
      },
      "source": [
        "#Specity custom values for one hot encoding\n",
        "tf.one_hot(some_list,depth=4,on_value='yo i love deep learning',off_value=\"I also like to dance\")\n"
      ],
      "execution_count": 227,
      "outputs": [
        {
          "output_type": "execute_result",
          "data": {
            "text/plain": [
              "<tf.Tensor: shape=(4, 4), dtype=string, numpy=\n",
              "array([[b'yo i love deep learning', b'I also like to dance',\n",
              "        b'I also like to dance', b'I also like to dance'],\n",
              "       [b'I also like to dance', b'yo i love deep learning',\n",
              "        b'I also like to dance', b'I also like to dance'],\n",
              "       [b'I also like to dance', b'I also like to dance',\n",
              "        b'yo i love deep learning', b'I also like to dance'],\n",
              "       [b'I also like to dance', b'I also like to dance',\n",
              "        b'I also like to dance', b'yo i love deep learning']],\n",
              "      dtype=object)>"
            ]
          },
          "metadata": {
            "tags": []
          },
          "execution_count": 227
        }
      ]
    },
    {
      "cell_type": "markdown",
      "metadata": {
        "id": "ES3i7HG6g3Uk"
      },
      "source": [
        "## Squaring, log, Square Root"
      ]
    },
    {
      "cell_type": "code",
      "metadata": {
        "colab": {
          "base_uri": "https://localhost:8080/"
        },
        "id": "lBFbuBbXhPHY",
        "outputId": "9c1c4b40-3107-4d7b-fd05-4e772076d3fa"
      },
      "source": [
        "#Create a new tensor\n",
        "H = tf.range(1,10)\n",
        "H"
      ],
      "execution_count": 228,
      "outputs": [
        {
          "output_type": "execute_result",
          "data": {
            "text/plain": [
              "<tf.Tensor: shape=(9,), dtype=int32, numpy=array([1, 2, 3, 4, 5, 6, 7, 8, 9], dtype=int32)>"
            ]
          },
          "metadata": {
            "tags": []
          },
          "execution_count": 228
        }
      ]
    },
    {
      "cell_type": "code",
      "metadata": {
        "colab": {
          "base_uri": "https://localhost:8080/"
        },
        "id": "gVacrq6ZhURi",
        "outputId": "25653afd-dd0e-491b-8805-a0313b1c50ec"
      },
      "source": [
        "#Square It\n",
        "tf.square(H)"
      ],
      "execution_count": 229,
      "outputs": [
        {
          "output_type": "execute_result",
          "data": {
            "text/plain": [
              "<tf.Tensor: shape=(9,), dtype=int32, numpy=array([ 1,  4,  9, 16, 25, 36, 49, 64, 81], dtype=int32)>"
            ]
          },
          "metadata": {
            "tags": []
          },
          "execution_count": 229
        }
      ]
    },
    {
      "cell_type": "code",
      "metadata": {
        "colab": {
          "base_uri": "https://localhost:8080/"
        },
        "id": "u1TyBtQdh8HD",
        "outputId": "f57f338b-073e-4d52-9bc1-7e221a49aab4"
      },
      "source": [
        "tf.math.sqrt(tf.cast(H,dtype='float32'))"
      ],
      "execution_count": 230,
      "outputs": [
        {
          "output_type": "execute_result",
          "data": {
            "text/plain": [
              "<tf.Tensor: shape=(9,), dtype=float32, numpy=\n",
              "array([1.       , 1.4142135, 1.7320508, 2.       , 2.236068 , 2.4494898,\n",
              "       2.6457512, 2.828427 , 3.       ], dtype=float32)>"
            ]
          },
          "metadata": {
            "tags": []
          },
          "execution_count": 230
        }
      ]
    },
    {
      "cell_type": "code",
      "metadata": {
        "colab": {
          "base_uri": "https://localhost:8080/"
        },
        "id": "lTgSrKUikhql",
        "outputId": "d3e70695-c39b-4b06-c406-2108068b1883"
      },
      "source": [
        "#Find the log of tensor\n",
        "tf.math.log(tf.cast(H,dtype='float32'))"
      ],
      "execution_count": 231,
      "outputs": [
        {
          "output_type": "execute_result",
          "data": {
            "text/plain": [
              "<tf.Tensor: shape=(9,), dtype=float32, numpy=\n",
              "array([0.       , 0.6931472, 1.0986123, 1.3862944, 1.609438 , 1.7917595,\n",
              "       1.9459102, 2.0794415, 2.1972246], dtype=float32)>"
            ]
          },
          "metadata": {
            "tags": []
          },
          "execution_count": 231
        }
      ]
    },
    {
      "cell_type": "markdown",
      "metadata": {
        "id": "QFfDlLJ3lzLs"
      },
      "source": [
        "## Exploring Tensorflow and Numpy compatibility\n",
        "TensorFlow interacts beautifully with NumPy arrays\n",
        "* One of the main differences between a TensorFlow tensor and a NumPy array is that a TensorFlow tensor can be run on a GPU or TPU for faster Numerical Processing."
      ]
    },
    {
      "cell_type": "code",
      "metadata": {
        "id": "TGCOIvzCl5HY",
        "colab": {
          "base_uri": "https://localhost:8080/"
        },
        "outputId": "08def3b2-c458-4039-ffdd-313e78488767"
      },
      "source": [
        "#Create a tensor directly with NumPy arrays\n",
        "J = tf.constant(np.array([3.,7.,10.]))\n",
        "J"
      ],
      "execution_count": 232,
      "outputs": [
        {
          "output_type": "execute_result",
          "data": {
            "text/plain": [
              "<tf.Tensor: shape=(3,), dtype=float64, numpy=array([ 3.,  7., 10.])>"
            ]
          },
          "metadata": {
            "tags": []
          },
          "execution_count": 232
        }
      ]
    },
    {
      "cell_type": "code",
      "metadata": {
        "colab": {
          "base_uri": "https://localhost:8080/"
        },
        "id": "tUJH5fPhn4YS",
        "outputId": "54f943f6-ea5c-485b-8ac0-11556cba6c2d"
      },
      "source": [
        "#Convert our tensor back to the numpy arrays\n",
        "np.array(J), type(np.array(J))"
      ],
      "execution_count": 233,
      "outputs": [
        {
          "output_type": "execute_result",
          "data": {
            "text/plain": [
              "(array([ 3.,  7., 10.]), numpy.ndarray)"
            ]
          },
          "metadata": {
            "tags": []
          },
          "execution_count": 233
        }
      ]
    },
    {
      "cell_type": "code",
      "metadata": {
        "colab": {
          "base_uri": "https://localhost:8080/"
        },
        "id": "expkPA0foJc_",
        "outputId": "f4c33d2e-cee0-42af-b38d-2d55a445aeee"
      },
      "source": [
        "#Convert tensor J to a Numpy array\n",
        "J.numpy(),type(np.array(J))"
      ],
      "execution_count": 234,
      "outputs": [
        {
          "output_type": "execute_result",
          "data": {
            "text/plain": [
              "(array([ 3.,  7., 10.]), numpy.ndarray)"
            ]
          },
          "metadata": {
            "tags": []
          },
          "execution_count": 234
        }
      ]
    },
    {
      "cell_type": "code",
      "metadata": {
        "colab": {
          "base_uri": "https://localhost:8080/"
        },
        "id": "bqCmH6hsox75",
        "outputId": "099079e6-c000-4055-8406-10c4bb90a3f6"
      },
      "source": [
        "#Convert tensor J to NumPy array\n",
        "J.numpy(),type(J.numpy())"
      ],
      "execution_count": 235,
      "outputs": [
        {
          "output_type": "execute_result",
          "data": {
            "text/plain": [
              "(array([ 3.,  7., 10.]), numpy.ndarray)"
            ]
          },
          "metadata": {
            "tags": []
          },
          "execution_count": 235
        }
      ]
    },
    {
      "cell_type": "code",
      "metadata": {
        "colab": {
          "base_uri": "https://localhost:8080/"
        },
        "id": "EYm86eH_u1iH",
        "outputId": "27cf1f41-28f7-45ba-9669-e65142c41984"
      },
      "source": [
        "#The default types of each are slightly different \n",
        "numpy_J = tf.constant(np.array([3.,7.,10.]))\n",
        "tensor_J = tf.constant([3.,7.,10.])\n",
        "#check the datatypes of each\n",
        "numpy_J.dtype,tensor_J.dtype"
      ],
      "execution_count": 236,
      "outputs": [
        {
          "output_type": "execute_result",
          "data": {
            "text/plain": [
              "(tf.float64, tf.float32)"
            ]
          },
          "metadata": {
            "tags": []
          },
          "execution_count": 236
        }
      ]
    },
    {
      "cell_type": "markdown",
      "metadata": {
        "id": "ul_--YrDwqTJ"
      },
      "source": [
        "## Making Sure our tensor operations run really fast on GPUs\n",
        "* Finding accessing to GPU"
      ]
    },
    {
      "cell_type": "code",
      "metadata": {
        "colab": {
          "base_uri": "https://localhost:8080/"
        },
        "id": "UFnAj69Jv_a4",
        "outputId": "dc89736c-4450-4568-98a3-490387734f4e"
      },
      "source": [
        "tf.config.list_physical_devices()"
      ],
      "execution_count": 237,
      "outputs": [
        {
          "output_type": "execute_result",
          "data": {
            "text/plain": [
              "[PhysicalDevice(name='/physical_device:CPU:0', device_type='CPU'),\n",
              " PhysicalDevice(name='/physical_device:GPU:0', device_type='GPU')]"
            ]
          },
          "metadata": {
            "tags": []
          },
          "execution_count": 237
        }
      ]
    },
    {
      "cell_type": "code",
      "metadata": {
        "colab": {
          "base_uri": "https://localhost:8080/"
        },
        "id": "vmfuXQmZxhWB",
        "outputId": "dcbc4d15-d493-4f6a-c436-870ea045fd1f"
      },
      "source": [
        "tf.config.list_physical_devices('GPU')"
      ],
      "execution_count": 238,
      "outputs": [
        {
          "output_type": "execute_result",
          "data": {
            "text/plain": [
              "[PhysicalDevice(name='/physical_device:GPU:0', device_type='GPU')]"
            ]
          },
          "metadata": {
            "tags": []
          },
          "execution_count": 238
        }
      ]
    },
    {
      "cell_type": "code",
      "metadata": {
        "colab": {
          "base_uri": "https://localhost:8080/"
        },
        "id": "TM1lmYfZxr7I",
        "outputId": "cd07b9be-013b-4660-dd06-4d02cdaec4d0"
      },
      "source": [
        "!nvidia-smi"
      ],
      "execution_count": 239,
      "outputs": [
        {
          "output_type": "stream",
          "text": [
            "Tue Jul 13 12:36:51 2021       \n",
            "+-----------------------------------------------------------------------------+\n",
            "| NVIDIA-SMI 470.42.01    Driver Version: 460.32.03    CUDA Version: 11.2     |\n",
            "|-------------------------------+----------------------+----------------------+\n",
            "| GPU  Name        Persistence-M| Bus-Id        Disp.A | Volatile Uncorr. ECC |\n",
            "| Fan  Temp  Perf  Pwr:Usage/Cap|         Memory-Usage | GPU-Util  Compute M. |\n",
            "|                               |                      |               MIG M. |\n",
            "|===============================+======================+======================|\n",
            "|   0  Tesla K80           Off  | 00000000:00:04.0 Off |                    0 |\n",
            "| N/A   73C    P0    75W / 149W |    124MiB / 11441MiB |      0%      Default |\n",
            "|                               |                      |                  N/A |\n",
            "+-------------------------------+----------------------+----------------------+\n",
            "                                                                               \n",
            "+-----------------------------------------------------------------------------+\n",
            "| Processes:                                                                  |\n",
            "|  GPU   GI   CI        PID   Type   Process name                  GPU Memory |\n",
            "|        ID   ID                                                   Usage      |\n",
            "|=============================================================================|\n",
            "|  No running processes found                                                 |\n",
            "+-----------------------------------------------------------------------------+\n"
          ],
          "name": "stdout"
        }
      ]
    },
    {
      "cell_type": "markdown",
      "metadata": {
        "id": "Yh8GCL93yjlg"
      },
      "source": [
        "If we have access to a CUDA-enabled GPU. Tensorflow will automatically will automatically use it whenever possible. "
      ]
    }
  ]
}